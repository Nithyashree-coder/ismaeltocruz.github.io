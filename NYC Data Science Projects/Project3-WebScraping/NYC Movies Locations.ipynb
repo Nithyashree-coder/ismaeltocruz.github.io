{
 "cells": [
  {
   "cell_type": "markdown",
   "metadata": {
    "slideshow": {
     "slide_type": "slide"
    }
   },
   "source": [
    "# Guess the movie!\n",
    "<img src=when-harry-met-sally.jpg>"
   ]
  },
  {
   "cell_type": "markdown",
   "metadata": {
    "slideshow": {
     "slide_type": "slide"
    }
   },
   "source": [
    "# Guess the movie!\n",
    "\n",
    "<img src=royal.png>"
   ]
  },
  {
   "cell_type": "markdown",
   "metadata": {
    "slideshow": {
     "slide_type": "slide"
    }
   },
   "source": [
    "# Guess the movie!\n",
    "<img src=godfather.jpg>"
   ]
  },
  {
   "cell_type": "markdown",
   "metadata": {
    "slideshow": {
     "slide_type": "slide"
    }
   },
   "source": [
    "# Films Shot in NYC\n"
   ]
  },
  {
   "cell_type": "markdown",
   "metadata": {
    "slideshow": {
     "slide_type": "slide"
    }
   },
   "source": [
    "<img src=anniehall.jpg>\n",
    "<img src=dark.jpg>"
   ]
  },
  {
   "cell_type": "markdown",
   "metadata": {
    "slideshow": {
     "slide_type": "skip"
    }
   },
   "source": [
    "# Questions\n",
    "## what are the most popular locations?\n",
    "## trend of locations over time?\n",
    "## what movie had the most locations?\n",
    "## average locations per movie?\n",
    "## what borough had most locations?"
   ]
  },
  {
   "cell_type": "markdown",
   "metadata": {
    "slideshow": {
     "slide_type": "slide"
    }
   },
   "source": [
    "# Outline:\n",
    "## - Scraped website\n",
    "## - Questions about the data\n",
    "## - Exploration\n",
    "## - Points for future analysis"
   ]
  },
  {
   "cell_type": "markdown",
   "metadata": {
    "slideshow": {
     "slide_type": "slide"
    }
   },
   "source": [
    "# Scraped Website\n",
    "<img src=\"otsonylogo_2015.jpg\">\n",
    "\n",
    "- website containing over 1,100 movies that were filmed in New York\n",
    "- photos and addresses of different movie scenes"
   ]
  },
  {
   "cell_type": "markdown",
   "metadata": {
    "slideshow": {
     "slide_type": "slide"
    }
   },
   "source": [
    "<img src='otso_1.png'>"
   ]
  },
  {
   "cell_type": "markdown",
   "metadata": {
    "slideshow": {
     "slide_type": "slide"
    }
   },
   "source": [
    "<img src='otso_2.png'>"
   ]
  },
  {
   "cell_type": "markdown",
   "metadata": {
    "slideshow": {
     "slide_type": "slide"
    }
   },
   "source": [
    "<img src='otso_3.png'>"
   ]
  },
  {
   "cell_type": "markdown",
   "metadata": {
    "slideshow": {
     "slide_type": "slide"
    }
   },
   "source": [
    "# Questions about the data\n",
    "- what movie had the most filmed locations?\n",
    "- what did the number of filmed locations look like over time?"
   ]
  },
  {
   "cell_type": "markdown",
   "metadata": {
    "slideshow": {
     "slide_type": "skip"
    }
   },
   "source": [
    "### Outline\n",
    "- motivation: favorite movies in NYC\n",
    "- movies stats, based on film permit data from Mayor's Office of Film: about 17,241 movie scenes filmed between 2011 and 2013\n",
    "- otsoNY: contains over 1,100 movies that were filmed in NYC\n",
    "- otsoNY website tour\n",
    "- questions to answer\n",
    "- exploration\n",
    "- where were your favorite movies shot?\n",
    "- given more time:\n",
    "    - get a complete list of geocodes for all locations\n",
    "    - plot all locations on a map\n",
    "    - arrange by year, genre\n",
    "    - what were the most popular locations\n"
   ]
  },
  {
   "cell_type": "code",
   "execution_count": 313,
   "metadata": {
    "collapsed": false,
    "slideshow": {
     "slide_type": "skip"
    }
   },
   "outputs": [],
   "source": [
    "from pymongo import MongoClient\n",
    "import pandas as pd\n",
    "import numpy as np\n",
    "import sqlite3\n",
    "import re\n",
    "import geocoder\n",
    "from geopy.geocoders import Nominatim\n",
    "import matplotlib.pyplot as plt\n",
    "import seaborn as sns\n",
    "from itertools import chain\n",
    "import unicodedata\n",
    "import time\n",
    "%matplotlib inline"
   ]
  },
  {
   "cell_type": "code",
   "execution_count": 242,
   "metadata": {
    "collapsed": false,
    "slideshow": {
     "slide_type": "skip"
    }
   },
   "outputs": [],
   "source": [
    "# create Mongo Client to retrieve collections \n",
    "\n",
    "client = MongoClient('localhost', 27017)\n",
    "db = client.nyc_movies_location\n",
    "movies_df = pd.DataFrame(list(db.location.find()))\n",
    "\n"
   ]
  },
  {
   "cell_type": "code",
   "execution_count": 243,
   "metadata": {
    "collapsed": false,
    "slideshow": {
     "slide_type": "skip"
    }
   },
   "outputs": [
    {
     "data": {
      "text/html": [
       "<div>\n",
       "<table border=\"1\" class=\"dataframe\">\n",
       "  <thead>\n",
       "    <tr style=\"text-align: right;\">\n",
       "      <th></th>\n",
       "      <th>_id</th>\n",
       "      <th>location</th>\n",
       "      <th>title</th>\n",
       "    </tr>\n",
       "  </thead>\n",
       "  <tbody>\n",
       "    <tr>\n",
       "      <th>0</th>\n",
       "      <td>5740f84bb104ca565618e27d</td>\n",
       "      <td>[Fulton Ferry Pier (Near Brooklyn Bridge) Broo...</td>\n",
       "      <td>Absolute Trust (2009)</td>\n",
       "    </tr>\n",
       "    <tr>\n",
       "      <th>1</th>\n",
       "      <td>5740f84eb104ca565618e27e</td>\n",
       "      <td>[Tavern on the Green (btw West 66th and 67th S...</td>\n",
       "      <td>Arthur 2: On the Rocks (1988)</td>\n",
       "    </tr>\n",
       "    <tr>\n",
       "      <th>2</th>\n",
       "      <td>5740f850b104ca565618e27f</td>\n",
       "      <td>[The Plaza Hotel, 750 5th Avenue and Central P...</td>\n",
       "      <td>Arthur (1981)</td>\n",
       "    </tr>\n",
       "    <tr>\n",
       "      <th>3</th>\n",
       "      <td>5740f853b104ca565618e280</td>\n",
       "      <td>[The Flatiron Building, 175 5th Avenue, Manhat...</td>\n",
       "      <td>Armageddon (1998)</td>\n",
       "    </tr>\n",
       "    <tr>\n",
       "      <th>4</th>\n",
       "      <td>5740f857b104ca565618e281</td>\n",
       "      <td>[Robert's Apartment, 19 Gramercy Park &amp; East 2...</td>\n",
       "      <td>Arbitrage (2012)</td>\n",
       "    </tr>\n",
       "  </tbody>\n",
       "</table>\n",
       "</div>"
      ],
      "text/plain": [
       "                        _id  \\\n",
       "0  5740f84bb104ca565618e27d   \n",
       "1  5740f84eb104ca565618e27e   \n",
       "2  5740f850b104ca565618e27f   \n",
       "3  5740f853b104ca565618e280   \n",
       "4  5740f857b104ca565618e281   \n",
       "\n",
       "                                            location  \\\n",
       "0  [Fulton Ferry Pier (Near Brooklyn Bridge) Broo...   \n",
       "1  [Tavern on the Green (btw West 66th and 67th S...   \n",
       "2  [The Plaza Hotel, 750 5th Avenue and Central P...   \n",
       "3  [The Flatiron Building, 175 5th Avenue, Manhat...   \n",
       "4  [Robert's Apartment, 19 Gramercy Park & East 2...   \n",
       "\n",
       "                           title  \n",
       "0          Absolute Trust (2009)  \n",
       "1  Arthur 2: On the Rocks (1988)  \n",
       "2                  Arthur (1981)  \n",
       "3              Armageddon (1998)  \n",
       "4               Arbitrage (2012)  "
      ]
     },
     "execution_count": 243,
     "metadata": {},
     "output_type": "execute_result"
    }
   ],
   "source": [
    "movies_df.head()"
   ]
  },
  {
   "cell_type": "code",
   "execution_count": 244,
   "metadata": {
    "collapsed": false,
    "slideshow": {
     "slide_type": "skip"
    }
   },
   "outputs": [
    {
     "data": {
      "text/html": [
       "<div>\n",
       "<table border=\"1\" class=\"dataframe\">\n",
       "  <thead>\n",
       "    <tr style=\"text-align: right;\">\n",
       "      <th></th>\n",
       "      <th>_id</th>\n",
       "      <th>location</th>\n",
       "      <th>title</th>\n",
       "    </tr>\n",
       "  </thead>\n",
       "  <tbody>\n",
       "    <tr>\n",
       "      <th>count</th>\n",
       "      <td>1171</td>\n",
       "      <td>1171</td>\n",
       "      <td>1171</td>\n",
       "    </tr>\n",
       "    <tr>\n",
       "      <th>unique</th>\n",
       "      <td>1171</td>\n",
       "      <td>1106</td>\n",
       "      <td>1157</td>\n",
       "    </tr>\n",
       "    <tr>\n",
       "      <th>top</th>\n",
       "      <td>57410879b104ca565618e6cd</td>\n",
       "      <td>[Times Square, Manhattan.]</td>\n",
       "      <td>Spread (2009)</td>\n",
       "    </tr>\n",
       "    <tr>\n",
       "      <th>freq</th>\n",
       "      <td>1</td>\n",
       "      <td>15</td>\n",
       "      <td>14</td>\n",
       "    </tr>\n",
       "  </tbody>\n",
       "</table>\n",
       "</div>"
      ],
      "text/plain": [
       "                             _id                    location          title\n",
       "count                       1171                        1171           1171\n",
       "unique                      1171                        1106           1157\n",
       "top     57410879b104ca565618e6cd  [Times Square, Manhattan.]  Spread (2009)\n",
       "freq                           1                          15             14"
      ]
     },
     "execution_count": 244,
     "metadata": {},
     "output_type": "execute_result"
    }
   ],
   "source": [
    "movies_df.describe()"
   ]
  },
  {
   "cell_type": "markdown",
   "metadata": {
    "slideshow": {
     "slide_type": "skip"
    }
   },
   "source": [
    "# Get year of each movie"
   ]
  },
  {
   "cell_type": "code",
   "execution_count": 245,
   "metadata": {
    "collapsed": false,
    "slideshow": {
     "slide_type": "skip"
    }
   },
   "outputs": [],
   "source": [
    "# Get year of each movie\n",
    "\n",
    "temp_year = [re.findall('\\((\\d+)\\)',x) for x in \\\n",
    "             movies_df['title']]\n",
    "# undo nested list\n",
    "#temp_year = list(chain.from_iterable(temp_year))\n",
    "#[item for sublist in temp_year[:5] for item in sublist]\n",
    "#len(temp_year[:5])\n",
    "#temp_year = map(str,temp_year)\n",
    "movies_df['year'] = pd.DataFrame(temp_year)"
   ]
  },
  {
   "cell_type": "markdown",
   "metadata": {
    "slideshow": {
     "slide_type": "skip"
    }
   },
   "source": [
    "# Get locations per movie"
   ]
  },
  {
   "cell_type": "code",
   "execution_count": 246,
   "metadata": {
    "collapsed": false,
    "slideshow": {
     "slide_type": "skip"
    }
   },
   "outputs": [
    {
     "data": {
      "text/plain": [
       "2"
      ]
     },
     "execution_count": 246,
     "metadata": {},
     "output_type": "execute_result"
    }
   ],
   "source": [
    "# length of locations list\n",
    "len(movies_df.location[0])"
   ]
  },
  {
   "cell_type": "code",
   "execution_count": 247,
   "metadata": {
    "collapsed": false,
    "slideshow": {
     "slide_type": "skip"
    }
   },
   "outputs": [
    {
     "data": {
      "text/plain": [
       "[u'Fulton Ferry Pier (Near Brooklyn Bridge) Brooklyn.',\n",
       " u'Ground Zero, Greenwich Street and Liberty Street, Manhattan.']"
      ]
     },
     "execution_count": 247,
     "metadata": {},
     "output_type": "execute_result"
    }
   ],
   "source": [
    "movies_df['location'][0]"
   ]
  },
  {
   "cell_type": "code",
   "execution_count": 248,
   "metadata": {
    "collapsed": false,
    "slideshow": {
     "slide_type": "skip"
    }
   },
   "outputs": [
    {
     "data": {
      "text/plain": [
       "39"
      ]
     },
     "execution_count": 248,
     "metadata": {},
     "output_type": "execute_result"
    }
   ],
   "source": [
    "movies_df['location'].apply(len).max()"
   ]
  },
  {
   "cell_type": "code",
   "execution_count": 249,
   "metadata": {
    "collapsed": false,
    "slideshow": {
     "slide_type": "skip"
    }
   },
   "outputs": [
    {
     "data": {
      "text/html": [
       "<div>\n",
       "<table border=\"1\" class=\"dataframe\">\n",
       "  <thead>\n",
       "    <tr style=\"text-align: right;\">\n",
       "      <th></th>\n",
       "      <th>_id</th>\n",
       "      <th>location</th>\n",
       "      <th>title</th>\n",
       "      <th>year</th>\n",
       "    </tr>\n",
       "  </thead>\n",
       "  <tbody>\n",
       "    <tr>\n",
       "      <th>262</th>\n",
       "      <td>5740fc21b104ca565618e383</td>\n",
       "      <td>[5th Avenue and East 57th Street, Manhattan., ...</td>\n",
       "      <td>Sex and the City (2008)</td>\n",
       "      <td>2008</td>\n",
       "    </tr>\n",
       "  </tbody>\n",
       "</table>\n",
       "</div>"
      ],
      "text/plain": [
       "                          _id  \\\n",
       "262  5740fc21b104ca565618e383   \n",
       "\n",
       "                                              location  \\\n",
       "262  [5th Avenue and East 57th Street, Manhattan., ...   \n",
       "\n",
       "                       title  year  \n",
       "262  Sex and the City (2008)  2008  "
      ]
     },
     "execution_count": 249,
     "metadata": {},
     "output_type": "execute_result"
    }
   ],
   "source": [
    "# movie with most locations\n",
    "movies_df[movies_df['location'].apply(len) == 39]"
   ]
  },
  {
   "cell_type": "markdown",
   "metadata": {
    "slideshow": {
     "slide_type": "skip"
    }
   },
   "source": [
    "## Create data frame for movie and location"
   ]
  },
  {
   "cell_type": "code",
   "execution_count": 250,
   "metadata": {
    "collapsed": false,
    "slideshow": {
     "slide_type": "skip"
    }
   },
   "outputs": [],
   "source": [
    "# tuple containing movie and location\n",
    "locations_list = []\n",
    "for i in range(len(movies_df)):\n",
    "    for j in movies_df.location[i]:\n",
    "        locations_list.append((movies_df.title[i], j))"
   ]
  },
  {
   "cell_type": "code",
   "execution_count": 251,
   "metadata": {
    "collapsed": false,
    "slideshow": {
     "slide_type": "skip"
    }
   },
   "outputs": [
    {
     "data": {
      "text/plain": [
       "[(u'Absolute Trust (2009)',\n",
       "  u'Fulton Ferry Pier (Near Brooklyn Bridge) Brooklyn.'),\n",
       " (u'Absolute Trust (2009)',\n",
       "  u'Ground Zero, Greenwich Street and Liberty Street, Manhattan.'),\n",
       " (u'Arthur 2: On the Rocks (1988)',\n",
       "  u'Tavern on the Green (btw West 66th and 67th Street) Manhattan.'),\n",
       " (u'Arthur 2: On the Rocks (1988)',\n",
       "  u\"Arthur's Apartment, 676 Park Avenue and East 68th Street, Manhattan.\"),\n",
       " (u'Arthur 2: On the Rocks (1988)',\n",
       "  u'Sutton Square and Sutton Place, Manhattan.')]"
      ]
     },
     "execution_count": 251,
     "metadata": {},
     "output_type": "execute_result"
    }
   ],
   "source": [
    "locations_list[:5]"
   ]
  },
  {
   "cell_type": "code",
   "execution_count": 252,
   "metadata": {
    "collapsed": false,
    "slideshow": {
     "slide_type": "skip"
    }
   },
   "outputs": [
    {
     "data": {
      "text/html": [
       "<div>\n",
       "<table border=\"1\" class=\"dataframe\">\n",
       "  <thead>\n",
       "    <tr style=\"text-align: right;\">\n",
       "      <th></th>\n",
       "      <th>movie</th>\n",
       "      <th>location</th>\n",
       "    </tr>\n",
       "  </thead>\n",
       "  <tbody>\n",
       "    <tr>\n",
       "      <th>count</th>\n",
       "      <td>5337</td>\n",
       "      <td>5337</td>\n",
       "    </tr>\n",
       "    <tr>\n",
       "      <th>unique</th>\n",
       "      <td>1142</td>\n",
       "      <td>3369</td>\n",
       "    </tr>\n",
       "    <tr>\n",
       "      <th>top</th>\n",
       "      <td>Spread (2009)</td>\n",
       "      <td>Times Square, Manhattan.</td>\n",
       "    </tr>\n",
       "    <tr>\n",
       "      <th>freq</th>\n",
       "      <td>44</td>\n",
       "      <td>147</td>\n",
       "    </tr>\n",
       "  </tbody>\n",
       "</table>\n",
       "</div>"
      ],
      "text/plain": [
       "                movie                  location\n",
       "count            5337                      5337\n",
       "unique           1142                      3369\n",
       "top     Spread (2009)  Times Square, Manhattan.\n",
       "freq               44                       147"
      ]
     },
     "execution_count": 252,
     "metadata": {},
     "output_type": "execute_result"
    }
   ],
   "source": [
    "# dataframe where one row contains a movie title and a location\n",
    "columns = ('movie', 'location')\n",
    "locations_df = pd.DataFrame(locations_list, columns = columns)\n",
    "locations_df.describe()"
   ]
  },
  {
   "cell_type": "code",
   "execution_count": 267,
   "metadata": {
    "collapsed": false
   },
   "outputs": [
    {
     "data": {
      "text/html": [
       "<div>\n",
       "<table border=\"1\" class=\"dataframe\">\n",
       "  <thead>\n",
       "    <tr style=\"text-align: right;\">\n",
       "      <th></th>\n",
       "      <th>movie</th>\n",
       "      <th>location</th>\n",
       "      <th>year</th>\n",
       "    </tr>\n",
       "  </thead>\n",
       "  <tbody>\n",
       "    <tr>\n",
       "      <th>5332</th>\n",
       "      <td>The Accidental Husband (2008)</td>\n",
       "      <td>Queensboro Bridge, East 59th Street (btw Manha...</td>\n",
       "      <td>2008</td>\n",
       "    </tr>\n",
       "    <tr>\n",
       "      <th>5333</th>\n",
       "      <td>The Accidental Husband (2008)</td>\n",
       "      <td>Subway, Broadway and West 42nd Street, Manhattan.</td>\n",
       "      <td>2008</td>\n",
       "    </tr>\n",
       "    <tr>\n",
       "      <th>5334</th>\n",
       "      <td>The Accidental Husband (2008)</td>\n",
       "      <td>Emma's Workplace, Broadway and West 42nd Stree...</td>\n",
       "      <td>2008</td>\n",
       "    </tr>\n",
       "    <tr>\n",
       "      <th>5335</th>\n",
       "      <td>The Accidental Husband (2008)</td>\n",
       "      <td>Times Square, Manhattan.</td>\n",
       "      <td>2008</td>\n",
       "    </tr>\n",
       "    <tr>\n",
       "      <th>5336</th>\n",
       "      <td>The Addiction (1995)</td>\n",
       "      <td>Elmer Holmes Bobst Library, 70 Washington Squa...</td>\n",
       "      <td>1995</td>\n",
       "    </tr>\n",
       "  </tbody>\n",
       "</table>\n",
       "</div>"
      ],
      "text/plain": [
       "                              movie  \\\n",
       "5332  The Accidental Husband (2008)   \n",
       "5333  The Accidental Husband (2008)   \n",
       "5334  The Accidental Husband (2008)   \n",
       "5335  The Accidental Husband (2008)   \n",
       "5336           The Addiction (1995)   \n",
       "\n",
       "                                               location  year  \n",
       "5332  Queensboro Bridge, East 59th Street (btw Manha...  2008  \n",
       "5333  Subway, Broadway and West 42nd Street, Manhattan.  2008  \n",
       "5334  Emma's Workplace, Broadway and West 42nd Stree...  2008  \n",
       "5335                           Times Square, Manhattan.  2008  \n",
       "5336  Elmer Holmes Bobst Library, 70 Washington Squa...  1995  "
      ]
     },
     "execution_count": 267,
     "metadata": {},
     "output_type": "execute_result"
    }
   ],
   "source": [
    "# add year of movie to dataframe\n",
    "#locations_df['year'] = pd.DataFrame([re.findall('\\((\\d+)\\)',x) for x in locations_df['movie']])\n",
    "locations_df['year'] = pd.DataFrame([re.findall('\\((\\d+)\\)',x) for x in locations_df['movie']], columns=['year'])\n",
    "locations_df['year'] = map(str,locations_df['year'])\n",
    "locations_df.tail()"
   ]
  },
  {
   "cell_type": "code",
   "execution_count": 268,
   "metadata": {
    "collapsed": false
   },
   "outputs": [
    {
     "data": {
      "text/plain": [
       "array(['2009', '1988', '1981', '1998', '2012', '1969', '1960', '1966',\n",
       "       '2003', '2014', '1977', '1982', '1950', '2001', '2002', '2008',\n",
       "       '2000', '1956', '2006', '1964', '2013', '1994', '1978', '2005',\n",
       "       '1980', '1989', '1987', '2007', '2004', '2010', '2011', '1961',\n",
       "       '1945', '1993', '1973', '1979', '2015', '1967', '1995', '1972',\n",
       "       '1984', '1983', '1999', '1997', '1962', '1957', '1974', '1965',\n",
       "       '1990', '1975', '1952', '1971', '1976', '1942', '1991', '1968',\n",
       "       '1963', '1951', '1992', '1928', '1996', '1986', '1959', '1955',\n",
       "       '1954', 'None', '1985', '1948', '1949', '1953', '1970', '1937',\n",
       "       '1947', '1933', '1927', '2016', '1958'], dtype=object)"
      ]
     },
     "execution_count": 268,
     "metadata": {},
     "output_type": "execute_result"
    }
   ],
   "source": [
    "(locations_df.year.unique())"
   ]
  },
  {
   "cell_type": "code",
   "execution_count": 269,
   "metadata": {
    "collapsed": false
   },
   "outputs": [
    {
     "data": {
      "text/html": [
       "<div>\n",
       "<table border=\"1\" class=\"dataframe\">\n",
       "  <thead>\n",
       "    <tr style=\"text-align: right;\">\n",
       "      <th></th>\n",
       "      <th>movie</th>\n",
       "      <th>location</th>\n",
       "      <th>year</th>\n",
       "    </tr>\n",
       "  </thead>\n",
       "  <tbody>\n",
       "    <tr>\n",
       "      <th>1525</th>\n",
       "      <td>Resident Evil: Retribution</td>\n",
       "      <td>Times Square, Manhattan.</td>\n",
       "      <td>None</td>\n",
       "    </tr>\n",
       "  </tbody>\n",
       "</table>\n",
       "</div>"
      ],
      "text/plain": [
       "                           movie                  location  year\n",
       "1525  Resident Evil: Retribution  Times Square, Manhattan.  None"
      ]
     },
     "execution_count": 269,
     "metadata": {},
     "output_type": "execute_result"
    }
   ],
   "source": [
    "# look for 'None' year\n",
    "locations_df[locations_df['year'] == 'None']"
   ]
  },
  {
   "cell_type": "code",
   "execution_count": 270,
   "metadata": {
    "collapsed": false
   },
   "outputs": [
    {
     "data": {
      "text/plain": [
       "movie       Resident Evil: Retribution\n",
       "location      Times Square, Manhattan.\n",
       "year                              2012\n",
       "Name: 1525, dtype: object"
      ]
     },
     "execution_count": 270,
     "metadata": {},
     "output_type": "execute_result"
    }
   ],
   "source": [
    "# fix 'None' year\n",
    "locations_df.year[1525] = '2012'\n",
    "locations_df.loc[1525]"
   ]
  },
  {
   "cell_type": "code",
   "execution_count": 271,
   "metadata": {
    "collapsed": true
   },
   "outputs": [],
   "source": [
    "locations_df['year'] = map(int,locations_df['year'])"
   ]
  },
  {
   "cell_type": "code",
   "execution_count": 272,
   "metadata": {
    "collapsed": false
   },
   "outputs": [
    {
     "data": {
      "text/plain": [
       "[1927,\n",
       " 1928,\n",
       " 1933,\n",
       " 1937,\n",
       " 1942,\n",
       " 1945,\n",
       " 1947,\n",
       " 1948,\n",
       " 1949,\n",
       " 1950,\n",
       " 1951,\n",
       " 1952,\n",
       " 1953,\n",
       " 1954,\n",
       " 1955,\n",
       " 1956,\n",
       " 1957,\n",
       " 1958,\n",
       " 1959,\n",
       " 1960,\n",
       " 1961,\n",
       " 1962,\n",
       " 1963,\n",
       " 1964,\n",
       " 1965,\n",
       " 1966,\n",
       " 1967,\n",
       " 1968,\n",
       " 1969,\n",
       " 1970,\n",
       " 1971,\n",
       " 1972,\n",
       " 1973,\n",
       " 1974,\n",
       " 1975,\n",
       " 1976,\n",
       " 1977,\n",
       " 1978,\n",
       " 1979,\n",
       " 1980,\n",
       " 1981,\n",
       " 1982,\n",
       " 1983,\n",
       " 1984,\n",
       " 1985,\n",
       " 1986,\n",
       " 1987,\n",
       " 1988,\n",
       " 1989,\n",
       " 1990,\n",
       " 1991,\n",
       " 1992,\n",
       " 1993,\n",
       " 1994,\n",
       " 1995,\n",
       " 1996,\n",
       " 1997,\n",
       " 1998,\n",
       " 1999,\n",
       " 2000,\n",
       " 2001,\n",
       " 2002,\n",
       " 2003,\n",
       " 2004,\n",
       " 2005,\n",
       " 2006,\n",
       " 2007,\n",
       " 2008,\n",
       " 2009,\n",
       " 2010,\n",
       " 2011,\n",
       " 2012,\n",
       " 2013,\n",
       " 2014,\n",
       " 2015,\n",
       " 2016]"
      ]
     },
     "execution_count": 272,
     "metadata": {},
     "output_type": "execute_result"
    }
   ],
   "source": [
    "sorted(locations_df.year.unique())"
   ]
  },
  {
   "cell_type": "code",
   "execution_count": 297,
   "metadata": {
    "collapsed": false
   },
   "outputs": [
    {
     "data": {
      "text/html": [
       "<div>\n",
       "<table border=\"1\" class=\"dataframe\">\n",
       "  <thead>\n",
       "    <tr style=\"text-align: right;\">\n",
       "      <th></th>\n",
       "      <th>movie</th>\n",
       "      <th>location</th>\n",
       "      <th>year</th>\n",
       "      <th>year_group</th>\n",
       "    </tr>\n",
       "  </thead>\n",
       "  <tbody>\n",
       "    <tr>\n",
       "      <th>0</th>\n",
       "      <td>Absolute Trust (2009)</td>\n",
       "      <td>Fulton Ferry Pier (Near Brooklyn Bridge) Brook...</td>\n",
       "      <td>2009</td>\n",
       "      <td>2009</td>\n",
       "    </tr>\n",
       "    <tr>\n",
       "      <th>1</th>\n",
       "      <td>Absolute Trust (2009)</td>\n",
       "      <td>Ground Zero, Greenwich Street and Liberty Stre...</td>\n",
       "      <td>2009</td>\n",
       "      <td>2009</td>\n",
       "    </tr>\n",
       "    <tr>\n",
       "      <th>2</th>\n",
       "      <td>Arthur 2: On the Rocks (1988)</td>\n",
       "      <td>Tavern on the Green (btw West 66th and 67th St...</td>\n",
       "      <td>1988</td>\n",
       "      <td>1988</td>\n",
       "    </tr>\n",
       "    <tr>\n",
       "      <th>3</th>\n",
       "      <td>Arthur 2: On the Rocks (1988)</td>\n",
       "      <td>Arthur's Apartment, 676 Park Avenue and East 6...</td>\n",
       "      <td>1988</td>\n",
       "      <td>1988</td>\n",
       "    </tr>\n",
       "    <tr>\n",
       "      <th>4</th>\n",
       "      <td>Arthur 2: On the Rocks (1988)</td>\n",
       "      <td>Sutton Square and Sutton Place, Manhattan.</td>\n",
       "      <td>1988</td>\n",
       "      <td>1988</td>\n",
       "    </tr>\n",
       "  </tbody>\n",
       "</table>\n",
       "</div>"
      ],
      "text/plain": [
       "                           movie  \\\n",
       "0          Absolute Trust (2009)   \n",
       "1          Absolute Trust (2009)   \n",
       "2  Arthur 2: On the Rocks (1988)   \n",
       "3  Arthur 2: On the Rocks (1988)   \n",
       "4  Arthur 2: On the Rocks (1988)   \n",
       "\n",
       "                                            location  year  year_group  \n",
       "0  Fulton Ferry Pier (Near Brooklyn Bridge) Brook...  2009        2009  \n",
       "1  Ground Zero, Greenwich Street and Liberty Stre...  2009        2009  \n",
       "2  Tavern on the Green (btw West 66th and 67th St...  1988        1988  \n",
       "3  Arthur's Apartment, 676 Park Avenue and East 6...  1988        1988  \n",
       "4         Sutton Square and Sutton Place, Manhattan.  1988        1988  "
      ]
     },
     "execution_count": 297,
     "metadata": {},
     "output_type": "execute_result"
    }
   ],
   "source": [
    "locations_df['year_group'] = locations_df['year']\n",
    "locations_df.head()"
   ]
  },
  {
   "cell_type": "code",
   "execution_count": 298,
   "metadata": {
    "collapsed": false
   },
   "outputs": [
    {
     "data": {
      "text/html": [
       "<div>\n",
       "<table border=\"1\" class=\"dataframe\">\n",
       "  <thead>\n",
       "    <tr style=\"text-align: right;\">\n",
       "      <th></th>\n",
       "      <th>movie</th>\n",
       "      <th>location</th>\n",
       "      <th>year</th>\n",
       "      <th>year_group</th>\n",
       "    </tr>\n",
       "  </thead>\n",
       "  <tbody>\n",
       "    <tr>\n",
       "      <th>0</th>\n",
       "      <td>Absolute Trust (2009)</td>\n",
       "      <td>Fulton Ferry Pier (Near Brooklyn Bridge) Brook...</td>\n",
       "      <td>2009</td>\n",
       "      <td>2000s</td>\n",
       "    </tr>\n",
       "    <tr>\n",
       "      <th>1</th>\n",
       "      <td>Absolute Trust (2009)</td>\n",
       "      <td>Ground Zero, Greenwich Street and Liberty Stre...</td>\n",
       "      <td>2009</td>\n",
       "      <td>2000s</td>\n",
       "    </tr>\n",
       "    <tr>\n",
       "      <th>2</th>\n",
       "      <td>Arthur 2: On the Rocks (1988)</td>\n",
       "      <td>Tavern on the Green (btw West 66th and 67th St...</td>\n",
       "      <td>1988</td>\n",
       "      <td>1980s</td>\n",
       "    </tr>\n",
       "    <tr>\n",
       "      <th>3</th>\n",
       "      <td>Arthur 2: On the Rocks (1988)</td>\n",
       "      <td>Arthur's Apartment, 676 Park Avenue and East 6...</td>\n",
       "      <td>1988</td>\n",
       "      <td>1980s</td>\n",
       "    </tr>\n",
       "    <tr>\n",
       "      <th>4</th>\n",
       "      <td>Arthur 2: On the Rocks (1988)</td>\n",
       "      <td>Sutton Square and Sutton Place, Manhattan.</td>\n",
       "      <td>1988</td>\n",
       "      <td>1980s</td>\n",
       "    </tr>\n",
       "    <tr>\n",
       "      <th>5</th>\n",
       "      <td>Arthur 2: On the Rocks (1988)</td>\n",
       "      <td>Linda's Brownstone, 36 West 89th Street and Ce...</td>\n",
       "      <td>1988</td>\n",
       "      <td>1980s</td>\n",
       "    </tr>\n",
       "    <tr>\n",
       "      <th>6</th>\n",
       "      <td>Arthur (1981)</td>\n",
       "      <td>The Plaza Hotel, 750 5th Avenue and Central Pa...</td>\n",
       "      <td>1981</td>\n",
       "      <td>1980s</td>\n",
       "    </tr>\n",
       "    <tr>\n",
       "      <th>7</th>\n",
       "      <td>Arthur (1981)</td>\n",
       "      <td>5th Avenue and West 58th Street, Manhattan.</td>\n",
       "      <td>1981</td>\n",
       "      <td>1980s</td>\n",
       "    </tr>\n",
       "    <tr>\n",
       "      <th>8</th>\n",
       "      <td>Armageddon (1998)</td>\n",
       "      <td>The Flatiron Building, 175 5th Avenue, Manhattan.</td>\n",
       "      <td>1998</td>\n",
       "      <td>1990s</td>\n",
       "    </tr>\n",
       "    <tr>\n",
       "      <th>9</th>\n",
       "      <td>Armageddon (1998)</td>\n",
       "      <td>Grand Central Terminal, 87 East 42nd Street, M...</td>\n",
       "      <td>1998</td>\n",
       "      <td>1990s</td>\n",
       "    </tr>\n",
       "    <tr>\n",
       "      <th>10</th>\n",
       "      <td>Armageddon (1998)</td>\n",
       "      <td>Chrysler Building, 405 Lexington Avenue and Ea...</td>\n",
       "      <td>1998</td>\n",
       "      <td>1990s</td>\n",
       "    </tr>\n",
       "    <tr>\n",
       "      <th>11</th>\n",
       "      <td>Arbitrage (2012)</td>\n",
       "      <td>Robert's Apartment, 19 Gramercy Park &amp; East 20...</td>\n",
       "      <td>2012</td>\n",
       "      <td>2010s</td>\n",
       "    </tr>\n",
       "    <tr>\n",
       "      <th>12</th>\n",
       "      <td>Arbitrage (2012)</td>\n",
       "      <td>Julie's Apartment, 77 White Street and Cortlan...</td>\n",
       "      <td>2012</td>\n",
       "      <td>2010s</td>\n",
       "    </tr>\n",
       "    <tr>\n",
       "      <th>13</th>\n",
       "      <td>Arbitrage (2012)</td>\n",
       "      <td>Office, 177 6th Avenue (btw West 45th &amp; 46th S...</td>\n",
       "      <td>2012</td>\n",
       "      <td>2010s</td>\n",
       "    </tr>\n",
       "    <tr>\n",
       "      <th>14</th>\n",
       "      <td>Arbitrage (2012)</td>\n",
       "      <td>The Four Seasons Restaurant, 99 East 52nd Stre...</td>\n",
       "      <td>2012</td>\n",
       "      <td>2010s</td>\n",
       "    </tr>\n",
       "    <tr>\n",
       "      <th>15</th>\n",
       "      <td>Arbitrage (2012)</td>\n",
       "      <td>Gallery, 530 West 25th Street (btw 10th &amp; 11th...</td>\n",
       "      <td>2012</td>\n",
       "      <td>2010s</td>\n",
       "    </tr>\n",
       "    <tr>\n",
       "      <th>16</th>\n",
       "      <td>Arbitrage (2012)</td>\n",
       "      <td>696 Park Avenue (between East 68th &amp; 69th Stre...</td>\n",
       "      <td>2012</td>\n",
       "      <td>2010s</td>\n",
       "    </tr>\n",
       "    <tr>\n",
       "      <th>17</th>\n",
       "      <td>Arbitrage (2012)</td>\n",
       "      <td>Police Precinct, West 26th Street and 12th Ave...</td>\n",
       "      <td>2012</td>\n",
       "      <td>2010s</td>\n",
       "    </tr>\n",
       "    <tr>\n",
       "      <th>18</th>\n",
       "      <td>Arbitrage (2012)</td>\n",
       "      <td>101 Park Avenue and East 40th Street, Manhattan.</td>\n",
       "      <td>2012</td>\n",
       "      <td>2010s</td>\n",
       "    </tr>\n",
       "    <tr>\n",
       "      <th>19</th>\n",
       "      <td>Arbitrage (2012)</td>\n",
       "      <td>(Near Gapstow Bridge) South East Corner, Centr...</td>\n",
       "      <td>2012</td>\n",
       "      <td>2010s</td>\n",
       "    </tr>\n",
       "    <tr>\n",
       "      <th>20</th>\n",
       "      <td>Arbitrage (2012)</td>\n",
       "      <td>New York County Supreme Court, 60 Centre Stree...</td>\n",
       "      <td>2012</td>\n",
       "      <td>2010s</td>\n",
       "    </tr>\n",
       "    <tr>\n",
       "      <th>21</th>\n",
       "      <td>Arbitrage (2012)</td>\n",
       "      <td>Funeral Chapel, 1076 Madison Avenue and East 8...</td>\n",
       "      <td>2012</td>\n",
       "      <td>2010s</td>\n",
       "    </tr>\n",
       "    <tr>\n",
       "      <th>22</th>\n",
       "      <td>Arbitrage (2012)</td>\n",
       "      <td>Le Caprice (Pierre Hotel) 5th Avenue &amp; East 61...</td>\n",
       "      <td>2012</td>\n",
       "      <td>2010s</td>\n",
       "    </tr>\n",
       "    <tr>\n",
       "      <th>23</th>\n",
       "      <td>Arbitrage (2012)</td>\n",
       "      <td>Antonucci Cafe, 170 East 81st Street and Lexin...</td>\n",
       "      <td>2012</td>\n",
       "      <td>2010s</td>\n",
       "    </tr>\n",
       "    <tr>\n",
       "      <th>24</th>\n",
       "      <td>Arbitrage (2012)</td>\n",
       "      <td>The Plaza Hotel, 750 5th Avenue and Central Pa...</td>\n",
       "      <td>2012</td>\n",
       "      <td>2010s</td>\n",
       "    </tr>\n",
       "    <tr>\n",
       "      <th>25</th>\n",
       "      <td>The April Fools (1969)</td>\n",
       "      <td>John F Kennedy International Airport, Queens.</td>\n",
       "      <td>1969</td>\n",
       "      <td>1960s</td>\n",
       "    </tr>\n",
       "    <tr>\n",
       "      <th>26</th>\n",
       "      <td>The April Fools (1969)</td>\n",
       "      <td>Naumburg Bandshell, Central Park, Manhattan.</td>\n",
       "      <td>1969</td>\n",
       "      <td>1960s</td>\n",
       "    </tr>\n",
       "    <tr>\n",
       "      <th>27</th>\n",
       "      <td>The April Fools (1969)</td>\n",
       "      <td>Howard's Workplace, 140 Broadway and Liberty S...</td>\n",
       "      <td>1969</td>\n",
       "      <td>1960s</td>\n",
       "    </tr>\n",
       "    <tr>\n",
       "      <th>28</th>\n",
       "      <td>The April Fools (1969)</td>\n",
       "      <td>United Nations Plaza and East 48th Street, Man...</td>\n",
       "      <td>1969</td>\n",
       "      <td>1960s</td>\n",
       "    </tr>\n",
       "    <tr>\n",
       "      <th>29</th>\n",
       "      <td>The April Fools (1969)</td>\n",
       "      <td>Catherine's Workplace, United Nations Plaza an...</td>\n",
       "      <td>1969</td>\n",
       "      <td>1960s</td>\n",
       "    </tr>\n",
       "    <tr>\n",
       "      <th>...</th>\n",
       "      <td>...</td>\n",
       "      <td>...</td>\n",
       "      <td>...</td>\n",
       "      <td>...</td>\n",
       "    </tr>\n",
       "    <tr>\n",
       "      <th>5307</th>\n",
       "      <td>Adam &amp; Steve (2005)</td>\n",
       "      <td>Christopher Park, Christopher Street and 7th A...</td>\n",
       "      <td>2005</td>\n",
       "      <td>2000s</td>\n",
       "    </tr>\n",
       "    <tr>\n",
       "      <th>5308</th>\n",
       "      <td>Adam (2009)</td>\n",
       "      <td>Adam's Apartment, 490 12th Street and Prospect...</td>\n",
       "      <td>2009</td>\n",
       "      <td>2000s</td>\n",
       "    </tr>\n",
       "    <tr>\n",
       "      <th>5309</th>\n",
       "      <td>Adam (2009)</td>\n",
       "      <td>Duane Street and West Broadway, Manhattan.</td>\n",
       "      <td>2009</td>\n",
       "      <td>2000s</td>\n",
       "    </tr>\n",
       "    <tr>\n",
       "      <th>5310</th>\n",
       "      <td>Adam (2009)</td>\n",
       "      <td>The Mall, Central Park, Manhattan.</td>\n",
       "      <td>2009</td>\n",
       "      <td>2000s</td>\n",
       "    </tr>\n",
       "    <tr>\n",
       "      <th>5311</th>\n",
       "      <td>Adam (2009)</td>\n",
       "      <td>Subway, West 96th Street and Broadway, Manhattan.</td>\n",
       "      <td>2009</td>\n",
       "      <td>2000s</td>\n",
       "    </tr>\n",
       "    <tr>\n",
       "      <th>5312</th>\n",
       "      <td>Adam (2009)</td>\n",
       "      <td>Broadway and West 49th Street, Manhattan.</td>\n",
       "      <td>2009</td>\n",
       "      <td>2000s</td>\n",
       "    </tr>\n",
       "    <tr>\n",
       "      <th>5313</th>\n",
       "      <td>Adam (2009)</td>\n",
       "      <td>Cesca Restaurant, 164 West 75th Street and Ams...</td>\n",
       "      <td>2009</td>\n",
       "      <td>2000s</td>\n",
       "    </tr>\n",
       "    <tr>\n",
       "      <th>5314</th>\n",
       "      <td>Adam (2009)</td>\n",
       "      <td>Cherry Lane Theatre, 38 Commerce Street and Be...</td>\n",
       "      <td>2009</td>\n",
       "      <td>2000s</td>\n",
       "    </tr>\n",
       "    <tr>\n",
       "      <th>5315</th>\n",
       "      <td>Adam (2009)</td>\n",
       "      <td>Sheep Meadow, Central Park (btw 66th and 69th ...</td>\n",
       "      <td>2009</td>\n",
       "      <td>2000s</td>\n",
       "    </tr>\n",
       "    <tr>\n",
       "      <th>5316</th>\n",
       "      <td>Across the Universe (2007)</td>\n",
       "      <td>Katz's Delicatessen, 205 East Houston Street a...</td>\n",
       "      <td>2007</td>\n",
       "      <td>2000s</td>\n",
       "    </tr>\n",
       "    <tr>\n",
       "      <th>5317</th>\n",
       "      <td>Across the Universe (2007)</td>\n",
       "      <td>Webster Hall, 125 East 11th Street and 3rd Ave...</td>\n",
       "      <td>2007</td>\n",
       "      <td>2000s</td>\n",
       "    </tr>\n",
       "    <tr>\n",
       "      <th>5318</th>\n",
       "      <td>Across the Universe (2007)</td>\n",
       "      <td>Rivington Street and Clinton Street, Manhattan.</td>\n",
       "      <td>2007</td>\n",
       "      <td>2000s</td>\n",
       "    </tr>\n",
       "    <tr>\n",
       "      <th>5319</th>\n",
       "      <td>Across the Universe (2007)</td>\n",
       "      <td>Cafe, 156 Rivington Street (btw Clinton Street...</td>\n",
       "      <td>2007</td>\n",
       "      <td>2000s</td>\n",
       "    </tr>\n",
       "    <tr>\n",
       "      <th>5320</th>\n",
       "      <td>Across the Universe (2007)</td>\n",
       "      <td>Desbrosses Street and Greenwich Street, Manhat...</td>\n",
       "      <td>2007</td>\n",
       "      <td>2000s</td>\n",
       "    </tr>\n",
       "    <tr>\n",
       "      <th>5321</th>\n",
       "      <td>Across 110th Street (1972)</td>\n",
       "      <td>West 110th Street and Malcolm X Boulevard, Man...</td>\n",
       "      <td>1972</td>\n",
       "      <td>1970s</td>\n",
       "    </tr>\n",
       "    <tr>\n",
       "      <th>5322</th>\n",
       "      <td>Across 110th Street (1972)</td>\n",
       "      <td>West 125th Street and 8th Avenue, Harlem.</td>\n",
       "      <td>1972</td>\n",
       "      <td>1970s</td>\n",
       "    </tr>\n",
       "    <tr>\n",
       "      <th>5323</th>\n",
       "      <td>Across 110th Street (1972)</td>\n",
       "      <td>8th Avenue and West 125th Street, Harlem.</td>\n",
       "      <td>1972</td>\n",
       "      <td>1970s</td>\n",
       "    </tr>\n",
       "    <tr>\n",
       "      <th>5324</th>\n",
       "      <td>Across 110th Street (1972)</td>\n",
       "      <td>West 160th Street and Saint Nicholas Avenue, H...</td>\n",
       "      <td>1972</td>\n",
       "      <td>1970s</td>\n",
       "    </tr>\n",
       "    <tr>\n",
       "      <th>5325</th>\n",
       "      <td>Across 110th Street (1972)</td>\n",
       "      <td>420 West 160th Street and Jumel Terrace, Harlem.</td>\n",
       "      <td>1972</td>\n",
       "      <td>1970s</td>\n",
       "    </tr>\n",
       "    <tr>\n",
       "      <th>5326</th>\n",
       "      <td>Across 110th Street (1972)</td>\n",
       "      <td>Jumel Terrace and West 160th Street, Harlem.</td>\n",
       "      <td>1972</td>\n",
       "      <td>1970s</td>\n",
       "    </tr>\n",
       "    <tr>\n",
       "      <th>5327</th>\n",
       "      <td>Across 110th Street (1972)</td>\n",
       "      <td>West 160th Street and Edgecombe Avenue, Harlem.</td>\n",
       "      <td>1972</td>\n",
       "      <td>1970s</td>\n",
       "    </tr>\n",
       "    <tr>\n",
       "      <th>5328</th>\n",
       "      <td>Across 110th Street (1972)</td>\n",
       "      <td>Lenox Avenue (btw West 141st &amp; 142rd Street) H...</td>\n",
       "      <td>1972</td>\n",
       "      <td>1970s</td>\n",
       "    </tr>\n",
       "    <tr>\n",
       "      <th>5329</th>\n",
       "      <td>A Chorus Line (1985)</td>\n",
       "      <td>Times Square, Manhattan.</td>\n",
       "      <td>1985</td>\n",
       "      <td>1980s</td>\n",
       "    </tr>\n",
       "    <tr>\n",
       "      <th>5330</th>\n",
       "      <td>A Chorus Line (1985)</td>\n",
       "      <td>Mark Hellinger Theatre, 237 West 51st Street a...</td>\n",
       "      <td>1985</td>\n",
       "      <td>1980s</td>\n",
       "    </tr>\n",
       "    <tr>\n",
       "      <th>5331</th>\n",
       "      <td>The Accidental Husband (2008)</td>\n",
       "      <td>New York County Supreme Court, 60 Centre Stree...</td>\n",
       "      <td>2008</td>\n",
       "      <td>2000s</td>\n",
       "    </tr>\n",
       "    <tr>\n",
       "      <th>5332</th>\n",
       "      <td>The Accidental Husband (2008)</td>\n",
       "      <td>Queensboro Bridge, East 59th Street (btw Manha...</td>\n",
       "      <td>2008</td>\n",
       "      <td>2000s</td>\n",
       "    </tr>\n",
       "    <tr>\n",
       "      <th>5333</th>\n",
       "      <td>The Accidental Husband (2008)</td>\n",
       "      <td>Subway, Broadway and West 42nd Street, Manhattan.</td>\n",
       "      <td>2008</td>\n",
       "      <td>2000s</td>\n",
       "    </tr>\n",
       "    <tr>\n",
       "      <th>5334</th>\n",
       "      <td>The Accidental Husband (2008)</td>\n",
       "      <td>Emma's Workplace, Broadway and West 42nd Stree...</td>\n",
       "      <td>2008</td>\n",
       "      <td>2000s</td>\n",
       "    </tr>\n",
       "    <tr>\n",
       "      <th>5335</th>\n",
       "      <td>The Accidental Husband (2008)</td>\n",
       "      <td>Times Square, Manhattan.</td>\n",
       "      <td>2008</td>\n",
       "      <td>2000s</td>\n",
       "    </tr>\n",
       "    <tr>\n",
       "      <th>5336</th>\n",
       "      <td>The Addiction (1995)</td>\n",
       "      <td>Elmer Holmes Bobst Library, 70 Washington Squa...</td>\n",
       "      <td>1995</td>\n",
       "      <td>1990s</td>\n",
       "    </tr>\n",
       "  </tbody>\n",
       "</table>\n",
       "<p>5337 rows × 4 columns</p>\n",
       "</div>"
      ],
      "text/plain": [
       "                              movie  \\\n",
       "0             Absolute Trust (2009)   \n",
       "1             Absolute Trust (2009)   \n",
       "2     Arthur 2: On the Rocks (1988)   \n",
       "3     Arthur 2: On the Rocks (1988)   \n",
       "4     Arthur 2: On the Rocks (1988)   \n",
       "5     Arthur 2: On the Rocks (1988)   \n",
       "6                     Arthur (1981)   \n",
       "7                     Arthur (1981)   \n",
       "8                 Armageddon (1998)   \n",
       "9                 Armageddon (1998)   \n",
       "10                Armageddon (1998)   \n",
       "11                 Arbitrage (2012)   \n",
       "12                 Arbitrage (2012)   \n",
       "13                 Arbitrage (2012)   \n",
       "14                 Arbitrage (2012)   \n",
       "15                 Arbitrage (2012)   \n",
       "16                 Arbitrage (2012)   \n",
       "17                 Arbitrage (2012)   \n",
       "18                 Arbitrage (2012)   \n",
       "19                 Arbitrage (2012)   \n",
       "20                 Arbitrage (2012)   \n",
       "21                 Arbitrage (2012)   \n",
       "22                 Arbitrage (2012)   \n",
       "23                 Arbitrage (2012)   \n",
       "24                 Arbitrage (2012)   \n",
       "25           The April Fools (1969)   \n",
       "26           The April Fools (1969)   \n",
       "27           The April Fools (1969)   \n",
       "28           The April Fools (1969)   \n",
       "29           The April Fools (1969)   \n",
       "...                             ...   \n",
       "5307            Adam & Steve (2005)   \n",
       "5308                    Adam (2009)   \n",
       "5309                    Adam (2009)   \n",
       "5310                    Adam (2009)   \n",
       "5311                    Adam (2009)   \n",
       "5312                    Adam (2009)   \n",
       "5313                    Adam (2009)   \n",
       "5314                    Adam (2009)   \n",
       "5315                    Adam (2009)   \n",
       "5316     Across the Universe (2007)   \n",
       "5317     Across the Universe (2007)   \n",
       "5318     Across the Universe (2007)   \n",
       "5319     Across the Universe (2007)   \n",
       "5320     Across the Universe (2007)   \n",
       "5321     Across 110th Street (1972)   \n",
       "5322     Across 110th Street (1972)   \n",
       "5323     Across 110th Street (1972)   \n",
       "5324     Across 110th Street (1972)   \n",
       "5325     Across 110th Street (1972)   \n",
       "5326     Across 110th Street (1972)   \n",
       "5327     Across 110th Street (1972)   \n",
       "5328     Across 110th Street (1972)   \n",
       "5329           A Chorus Line (1985)   \n",
       "5330           A Chorus Line (1985)   \n",
       "5331  The Accidental Husband (2008)   \n",
       "5332  The Accidental Husband (2008)   \n",
       "5333  The Accidental Husband (2008)   \n",
       "5334  The Accidental Husband (2008)   \n",
       "5335  The Accidental Husband (2008)   \n",
       "5336           The Addiction (1995)   \n",
       "\n",
       "                                               location  year year_group  \n",
       "0     Fulton Ferry Pier (Near Brooklyn Bridge) Brook...  2009      2000s  \n",
       "1     Ground Zero, Greenwich Street and Liberty Stre...  2009      2000s  \n",
       "2     Tavern on the Green (btw West 66th and 67th St...  1988      1980s  \n",
       "3     Arthur's Apartment, 676 Park Avenue and East 6...  1988      1980s  \n",
       "4            Sutton Square and Sutton Place, Manhattan.  1988      1980s  \n",
       "5     Linda's Brownstone, 36 West 89th Street and Ce...  1988      1980s  \n",
       "6     The Plaza Hotel, 750 5th Avenue and Central Pa...  1981      1980s  \n",
       "7           5th Avenue and West 58th Street, Manhattan.  1981      1980s  \n",
       "8     The Flatiron Building, 175 5th Avenue, Manhattan.  1998      1990s  \n",
       "9     Grand Central Terminal, 87 East 42nd Street, M...  1998      1990s  \n",
       "10    Chrysler Building, 405 Lexington Avenue and Ea...  1998      1990s  \n",
       "11    Robert's Apartment, 19 Gramercy Park & East 20...  2012      2010s  \n",
       "12    Julie's Apartment, 77 White Street and Cortlan...  2012      2010s  \n",
       "13    Office, 177 6th Avenue (btw West 45th & 46th S...  2012      2010s  \n",
       "14    The Four Seasons Restaurant, 99 East 52nd Stre...  2012      2010s  \n",
       "15    Gallery, 530 West 25th Street (btw 10th & 11th...  2012      2010s  \n",
       "16    696 Park Avenue (between East 68th & 69th Stre...  2012      2010s  \n",
       "17    Police Precinct, West 26th Street and 12th Ave...  2012      2010s  \n",
       "18     101 Park Avenue and East 40th Street, Manhattan.  2012      2010s  \n",
       "19    (Near Gapstow Bridge) South East Corner, Centr...  2012      2010s  \n",
       "20    New York County Supreme Court, 60 Centre Stree...  2012      2010s  \n",
       "21    Funeral Chapel, 1076 Madison Avenue and East 8...  2012      2010s  \n",
       "22    Le Caprice (Pierre Hotel) 5th Avenue & East 61...  2012      2010s  \n",
       "23    Antonucci Cafe, 170 East 81st Street and Lexin...  2012      2010s  \n",
       "24    The Plaza Hotel, 750 5th Avenue and Central Pa...  2012      2010s  \n",
       "25        John F Kennedy International Airport, Queens.  1969      1960s  \n",
       "26         Naumburg Bandshell, Central Park, Manhattan.  1969      1960s  \n",
       "27    Howard's Workplace, 140 Broadway and Liberty S...  1969      1960s  \n",
       "28    United Nations Plaza and East 48th Street, Man...  1969      1960s  \n",
       "29    Catherine's Workplace, United Nations Plaza an...  1969      1960s  \n",
       "...                                                 ...   ...        ...  \n",
       "5307  Christopher Park, Christopher Street and 7th A...  2005      2000s  \n",
       "5308  Adam's Apartment, 490 12th Street and Prospect...  2009      2000s  \n",
       "5309         Duane Street and West Broadway, Manhattan.  2009      2000s  \n",
       "5310                 The Mall, Central Park, Manhattan.  2009      2000s  \n",
       "5311  Subway, West 96th Street and Broadway, Manhattan.  2009      2000s  \n",
       "5312          Broadway and West 49th Street, Manhattan.  2009      2000s  \n",
       "5313  Cesca Restaurant, 164 West 75th Street and Ams...  2009      2000s  \n",
       "5314  Cherry Lane Theatre, 38 Commerce Street and Be...  2009      2000s  \n",
       "5315  Sheep Meadow, Central Park (btw 66th and 69th ...  2009      2000s  \n",
       "5316  Katz's Delicatessen, 205 East Houston Street a...  2007      2000s  \n",
       "5317  Webster Hall, 125 East 11th Street and 3rd Ave...  2007      2000s  \n",
       "5318    Rivington Street and Clinton Street, Manhattan.  2007      2000s  \n",
       "5319  Cafe, 156 Rivington Street (btw Clinton Street...  2007      2000s  \n",
       "5320  Desbrosses Street and Greenwich Street, Manhat...  2007      2000s  \n",
       "5321  West 110th Street and Malcolm X Boulevard, Man...  1972      1970s  \n",
       "5322          West 125th Street and 8th Avenue, Harlem.  1972      1970s  \n",
       "5323          8th Avenue and West 125th Street, Harlem.  1972      1970s  \n",
       "5324  West 160th Street and Saint Nicholas Avenue, H...  1972      1970s  \n",
       "5325   420 West 160th Street and Jumel Terrace, Harlem.  1972      1970s  \n",
       "5326       Jumel Terrace and West 160th Street, Harlem.  1972      1970s  \n",
       "5327    West 160th Street and Edgecombe Avenue, Harlem.  1972      1970s  \n",
       "5328  Lenox Avenue (btw West 141st & 142rd Street) H...  1972      1970s  \n",
       "5329                           Times Square, Manhattan.  1985      1980s  \n",
       "5330  Mark Hellinger Theatre, 237 West 51st Street a...  1985      1980s  \n",
       "5331  New York County Supreme Court, 60 Centre Stree...  2008      2000s  \n",
       "5332  Queensboro Bridge, East 59th Street (btw Manha...  2008      2000s  \n",
       "5333  Subway, Broadway and West 42nd Street, Manhattan.  2008      2000s  \n",
       "5334  Emma's Workplace, Broadway and West 42nd Stree...  2008      2000s  \n",
       "5335                           Times Square, Manhattan.  2008      2000s  \n",
       "5336  Elmer Holmes Bobst Library, 70 Washington Squa...  1995      1990s  \n",
       "\n",
       "[5337 rows x 4 columns]"
      ]
     },
     "execution_count": 298,
     "metadata": {},
     "output_type": "execute_result"
    }
   ],
   "source": [
    "# group by decade\n",
    "def by_decade(x):\n",
    "    if x in range(1920,1930):\n",
    "        return '1920s'\n",
    "    elif x in range(1930,1940):\n",
    "        return '1930s'\n",
    "    elif x in range(1940,1950):\n",
    "        return '1940s'\n",
    "    elif x in range(1950,1960):\n",
    "        return '1950s'\n",
    "    elif x in range(1960,1970):\n",
    "        return '1960s'\n",
    "    elif x in range(1970,1980):\n",
    "        return '1970s'\n",
    "    elif x in range(1980,1990):\n",
    "        return '1980s'\n",
    "    elif x in range(1990,2000):\n",
    "        return '1990s'\n",
    "    elif x in range(2000,2010):\n",
    "        return '2000s'\n",
    "    elif x in range(2010,2020):\n",
    "        return '2010s'\n",
    "    else:\n",
    "        return 'Error'\n",
    "locations_df['year_group'] = locations_df['year_group'].apply(by_decade)\n",
    "locations_df"
   ]
  },
  {
   "cell_type": "code",
   "execution_count": 299,
   "metadata": {
    "collapsed": false
   },
   "outputs": [
    {
     "data": {
      "text/plain": [
       "array(['2000s', '1980s', '1990s', '2010s', '1960s', '1970s', '1950s',\n",
       "       '1940s', '1920s', '1930s'], dtype=object)"
      ]
     },
     "execution_count": 299,
     "metadata": {},
     "output_type": "execute_result"
    }
   ],
   "source": [
    "locations_df['year_group'].unique()"
   ]
  },
  {
   "cell_type": "code",
   "execution_count": 300,
   "metadata": {
    "collapsed": false
   },
   "outputs": [
    {
     "data": {
      "text/html": [
       "<div>\n",
       "<table border=\"1\" class=\"dataframe\">\n",
       "  <thead>\n",
       "    <tr style=\"text-align: right;\">\n",
       "      <th></th>\n",
       "      <th>movie</th>\n",
       "      <th>location</th>\n",
       "      <th>year</th>\n",
       "    </tr>\n",
       "    <tr>\n",
       "      <th>year_group</th>\n",
       "      <th></th>\n",
       "      <th></th>\n",
       "      <th></th>\n",
       "    </tr>\n",
       "  </thead>\n",
       "  <tbody>\n",
       "    <tr>\n",
       "      <th>1920s</th>\n",
       "      <td>2</td>\n",
       "      <td>2</td>\n",
       "      <td>2</td>\n",
       "    </tr>\n",
       "    <tr>\n",
       "      <th>1930s</th>\n",
       "      <td>3</td>\n",
       "      <td>3</td>\n",
       "      <td>3</td>\n",
       "    </tr>\n",
       "    <tr>\n",
       "      <th>1940s</th>\n",
       "      <td>73</td>\n",
       "      <td>73</td>\n",
       "      <td>73</td>\n",
       "    </tr>\n",
       "    <tr>\n",
       "      <th>1950s</th>\n",
       "      <td>94</td>\n",
       "      <td>94</td>\n",
       "      <td>94</td>\n",
       "    </tr>\n",
       "    <tr>\n",
       "      <th>1960s</th>\n",
       "      <td>247</td>\n",
       "      <td>247</td>\n",
       "      <td>247</td>\n",
       "    </tr>\n",
       "    <tr>\n",
       "      <th>1970s</th>\n",
       "      <td>357</td>\n",
       "      <td>357</td>\n",
       "      <td>357</td>\n",
       "    </tr>\n",
       "    <tr>\n",
       "      <th>1980s</th>\n",
       "      <td>640</td>\n",
       "      <td>640</td>\n",
       "      <td>640</td>\n",
       "    </tr>\n",
       "    <tr>\n",
       "      <th>1990s</th>\n",
       "      <td>959</td>\n",
       "      <td>959</td>\n",
       "      <td>959</td>\n",
       "    </tr>\n",
       "    <tr>\n",
       "      <th>2000s</th>\n",
       "      <td>1548</td>\n",
       "      <td>1548</td>\n",
       "      <td>1548</td>\n",
       "    </tr>\n",
       "    <tr>\n",
       "      <th>2010s</th>\n",
       "      <td>1414</td>\n",
       "      <td>1414</td>\n",
       "      <td>1414</td>\n",
       "    </tr>\n",
       "  </tbody>\n",
       "</table>\n",
       "</div>"
      ],
      "text/plain": [
       "            movie  location  year\n",
       "year_group                       \n",
       "1920s           2         2     2\n",
       "1930s           3         3     3\n",
       "1940s          73        73    73\n",
       "1950s          94        94    94\n",
       "1960s         247       247   247\n",
       "1970s         357       357   357\n",
       "1980s         640       640   640\n",
       "1990s         959       959   959\n",
       "2000s        1548      1548  1548\n",
       "2010s        1414      1414  1414"
      ]
     },
     "execution_count": 300,
     "metadata": {},
     "output_type": "execute_result"
    }
   ],
   "source": [
    "locations_df.groupby('year_group').count()"
   ]
  },
  {
   "cell_type": "markdown",
   "metadata": {
    "slideshow": {
     "slide_type": "skip"
    }
   },
   "source": [
    "## Write to csv"
   ]
  },
  {
   "cell_type": "code",
   "execution_count": 303,
   "metadata": {
    "collapsed": false,
    "slideshow": {
     "slide_type": "skip"
    }
   },
   "outputs": [],
   "source": [
    "locations_df.to_csv('movie_locations.csv', columns = ('movie','location','year','year_group'),\\\n",
    "                   encoding = 'utf8')"
   ]
  },
  {
   "cell_type": "markdown",
   "metadata": {
    "slideshow": {
     "slide_type": "skip"
    }
   },
   "source": [
    "## Obtain geocodes per location address"
   ]
  },
  {
   "cell_type": "code",
   "execution_count": 305,
   "metadata": {
    "collapsed": false,
    "slideshow": {
     "slide_type": "skip"
    }
   },
   "outputs": [
    {
     "data": {
      "text/plain": [
       "u'Fulton Ferry Pier (Near Brooklyn Bridge) Brooklyn.'"
      ]
     },
     "execution_count": 305,
     "metadata": {},
     "output_type": "execute_result"
    }
   ],
   "source": [
    "locations_df.location[0]"
   ]
  },
  {
   "cell_type": "code",
   "execution_count": 306,
   "metadata": {
    "collapsed": false,
    "slideshow": {
     "slide_type": "skip"
    }
   },
   "outputs": [
    {
     "data": {
      "text/plain": [
       "<[OK] Google - Geocode [Brooklyn Bridge Park Pier 6, Pier 6 - Governors Island, Brooklyn, NY 11201, USA]>"
      ]
     },
     "execution_count": 306,
     "metadata": {},
     "output_type": "execute_result"
    }
   ],
   "source": [
    "geocoder.google(locations_df.location[0])"
   ]
  },
  {
   "cell_type": "code",
   "execution_count": 307,
   "metadata": {
    "collapsed": false
   },
   "outputs": [
    {
     "data": {
      "text/plain": [
       "[40.6927004, -74.00155099999999]"
      ]
     },
     "execution_count": 307,
     "metadata": {},
     "output_type": "execute_result"
    }
   ],
   "source": [
    "geocoder.google(locations_df.location[0]).latlng"
   ]
  },
  {
   "cell_type": "code",
   "execution_count": 312,
   "metadata": {
    "collapsed": false
   },
   "outputs": [
    {
     "data": {
      "text/html": [
       "<div>\n",
       "<table border=\"1\" class=\"dataframe\">\n",
       "  <thead>\n",
       "    <tr style=\"text-align: right;\">\n",
       "      <th></th>\n",
       "      <th>movie</th>\n",
       "      <th>location</th>\n",
       "      <th>year</th>\n",
       "      <th>year_group</th>\n",
       "    </tr>\n",
       "  </thead>\n",
       "  <tbody>\n",
       "    <tr>\n",
       "      <th>0</th>\n",
       "      <td>Absolute Trust (2009)</td>\n",
       "      <td>Fulton Ferry Pier (Near Brooklyn Bridge) Brook...</td>\n",
       "      <td>2009</td>\n",
       "      <td>2000s</td>\n",
       "    </tr>\n",
       "    <tr>\n",
       "      <th>1</th>\n",
       "      <td>Absolute Trust (2009)</td>\n",
       "      <td>Ground Zero, Greenwich Street and Liberty Stre...</td>\n",
       "      <td>2009</td>\n",
       "      <td>2000s</td>\n",
       "    </tr>\n",
       "    <tr>\n",
       "      <th>2</th>\n",
       "      <td>Arthur 2: On the Rocks (1988)</td>\n",
       "      <td>Tavern on the Green (btw West 66th and 67th St...</td>\n",
       "      <td>1988</td>\n",
       "      <td>1980s</td>\n",
       "    </tr>\n",
       "    <tr>\n",
       "      <th>3</th>\n",
       "      <td>Arthur 2: On the Rocks (1988)</td>\n",
       "      <td>Arthur's Apartment, 676 Park Avenue and East 6...</td>\n",
       "      <td>1988</td>\n",
       "      <td>1980s</td>\n",
       "    </tr>\n",
       "    <tr>\n",
       "      <th>4</th>\n",
       "      <td>Arthur 2: On the Rocks (1988)</td>\n",
       "      <td>Sutton Square and Sutton Place, Manhattan.</td>\n",
       "      <td>1988</td>\n",
       "      <td>1980s</td>\n",
       "    </tr>\n",
       "  </tbody>\n",
       "</table>\n",
       "</div>"
      ],
      "text/plain": [
       "                           movie  \\\n",
       "0          Absolute Trust (2009)   \n",
       "1          Absolute Trust (2009)   \n",
       "2  Arthur 2: On the Rocks (1988)   \n",
       "3  Arthur 2: On the Rocks (1988)   \n",
       "4  Arthur 2: On the Rocks (1988)   \n",
       "\n",
       "                                            location  year year_group  \n",
       "0  Fulton Ferry Pier (Near Brooklyn Bridge) Brook...  2009      2000s  \n",
       "1  Ground Zero, Greenwich Street and Liberty Stre...  2009      2000s  \n",
       "2  Tavern on the Green (btw West 66th and 67th St...  1988      1980s  \n",
       "3  Arthur's Apartment, 676 Park Avenue and East 6...  1988      1980s  \n",
       "4         Sutton Square and Sutton Place, Manhattan.  1988      1980s  "
      ]
     },
     "execution_count": 312,
     "metadata": {},
     "output_type": "execute_result"
    }
   ],
   "source": [
    "a = range(10)\n",
    "group1 = locations_df[:2000]\n",
    "group2 = locations_df[2000:4000]\n",
    "group3 = locations_df[4000:]\n",
    "group1.head()"
   ]
  },
  {
   "cell_type": "code",
   "execution_count": 315,
   "metadata": {
    "collapsed": false,
    "slideshow": {
     "slide_type": "skip"
    }
   },
   "outputs": [],
   "source": [
    "# geocodes for group1\n",
    "geocodes_list1 = []\n",
    "for i in group1.location:\n",
    "    geocodes_list1.append(geocoder.google(i).latlng)\n",
    "    time.sleep(0.15)"
   ]
  },
  {
   "cell_type": "code",
   "execution_count": 316,
   "metadata": {
    "collapsed": false,
    "slideshow": {
     "slide_type": "skip"
    }
   },
   "outputs": [
    {
     "data": {
      "text/plain": [
       "2000"
      ]
     },
     "execution_count": 316,
     "metadata": {},
     "output_type": "execute_result"
    }
   ],
   "source": [
    "len(geocodes_list1)"
   ]
  },
  {
   "cell_type": "code",
   "execution_count": 344,
   "metadata": {
    "collapsed": false,
    "slideshow": {
     "slide_type": "skip"
    }
   },
   "outputs": [],
   "source": [
    "geocodes1 = pd.DataFrame(geocodes_list1, columns = ('latitude', 'longitude'))"
   ]
  },
  {
   "cell_type": "code",
   "execution_count": 347,
   "metadata": {
    "collapsed": false
   },
   "outputs": [
    {
     "data": {
      "text/html": [
       "<div>\n",
       "<table border=\"1\" class=\"dataframe\">\n",
       "  <thead>\n",
       "    <tr style=\"text-align: right;\">\n",
       "      <th></th>\n",
       "      <th>movie</th>\n",
       "      <th>location</th>\n",
       "      <th>year</th>\n",
       "      <th>year_group</th>\n",
       "    </tr>\n",
       "  </thead>\n",
       "  <tbody>\n",
       "    <tr>\n",
       "      <th>140</th>\n",
       "      <td>X-Men (2000)</td>\n",
       "      <td>Statue of Liberty, Liberty Island, New York Ha...</td>\n",
       "      <td>2000</td>\n",
       "      <td>2000s</td>\n",
       "    </tr>\n",
       "    <tr>\n",
       "      <th>157</th>\n",
       "      <td>Working Girl (1988)</td>\n",
       "      <td>Statue of Liberty, Liberty Island, New York Ha...</td>\n",
       "      <td>1988</td>\n",
       "      <td>1980s</td>\n",
       "    </tr>\n",
       "    <tr>\n",
       "      <th>213</th>\n",
       "      <td>Whore 2 (1994)</td>\n",
       "      <td>Playground, West 46th Street (btw 9th and 10th...</td>\n",
       "      <td>1994</td>\n",
       "      <td>1990s</td>\n",
       "    </tr>\n",
       "    <tr>\n",
       "      <th>443</th>\n",
       "      <td>Up the Sandbox (1972)</td>\n",
       "      <td>Statue of Liberty, Liberty Island, New York Ha...</td>\n",
       "      <td>1972</td>\n",
       "      <td>1970s</td>\n",
       "    </tr>\n",
       "    <tr>\n",
       "      <th>524</th>\n",
       "      <td>2 Days in New York (2012)</td>\n",
       "      <td>Massage Salon, 163 Mott Street (btw Grand Stre...</td>\n",
       "      <td>2012</td>\n",
       "      <td>2010s</td>\n",
       "    </tr>\n",
       "    <tr>\n",
       "      <th>633</th>\n",
       "      <td>Titanic (1997)</td>\n",
       "      <td>Statue of Liberty, Liberty Island, New York Ha...</td>\n",
       "      <td>1997</td>\n",
       "      <td>1990s</td>\n",
       "    </tr>\n",
       "    <tr>\n",
       "      <th>670</th>\n",
       "      <td>Three Days of the Condor (1975)</td>\n",
       "      <td>East River Lane, Wards Island, New York.</td>\n",
       "      <td>1975</td>\n",
       "      <td>1970s</td>\n",
       "    </tr>\n",
       "    <tr>\n",
       "      <th>676</th>\n",
       "      <td>A Thousand Clowns (1965)</td>\n",
       "      <td>Statue of Liberty, Liberty Island, New York Ha...</td>\n",
       "      <td>1965</td>\n",
       "      <td>1960s</td>\n",
       "    </tr>\n",
       "    <tr>\n",
       "      <th>890</th>\n",
       "      <td>Sweet November (1968)</td>\n",
       "      <td>East River (btw Brooklyn Bridge and Manhattan ...</td>\n",
       "      <td>1968</td>\n",
       "      <td>1960s</td>\n",
       "    </tr>\n",
       "    <tr>\n",
       "      <th>918</th>\n",
       "      <td>Superman 2 (1980)</td>\n",
       "      <td>Statue of Liberty, Liberty Island, New York Ha...</td>\n",
       "      <td>1980</td>\n",
       "      <td>1980s</td>\n",
       "    </tr>\n",
       "    <tr>\n",
       "      <th>1019</th>\n",
       "      <td>Splash (1984)</td>\n",
       "      <td>Statue of Liberty, Liberty Island, New York Ha...</td>\n",
       "      <td>1984</td>\n",
       "      <td>1980s</td>\n",
       "    </tr>\n",
       "    <tr>\n",
       "      <th>1181</th>\n",
       "      <td>Sisters (1973)</td>\n",
       "      <td>Circle Line Ferry, New York Harbour.</td>\n",
       "      <td>1973</td>\n",
       "      <td>1970s</td>\n",
       "    </tr>\n",
       "    <tr>\n",
       "      <th>1268</th>\n",
       "      <td>Sharknado 2: The Second One (2014)</td>\n",
       "      <td>Circle Line Ferry, New York Harbour.</td>\n",
       "      <td>2014</td>\n",
       "      <td>2010s</td>\n",
       "    </tr>\n",
       "    <tr>\n",
       "      <th>1269</th>\n",
       "      <td>Sharknado 2: The Second One (2014)</td>\n",
       "      <td>Statue of Liberty, Liberty Island, New York Ha...</td>\n",
       "      <td>2014</td>\n",
       "      <td>2010s</td>\n",
       "    </tr>\n",
       "    <tr>\n",
       "      <th>1443</th>\n",
       "      <td>Saboteur (1942)</td>\n",
       "      <td>Statue of Liberty, Liberty Island, New York Ha...</td>\n",
       "      <td>1942</td>\n",
       "      <td>1940s</td>\n",
       "    </tr>\n",
       "    <tr>\n",
       "      <th>1500</th>\n",
       "      <td>Roadie (1980)</td>\n",
       "      <td></td>\n",
       "      <td>1980</td>\n",
       "      <td>1980s</td>\n",
       "    </tr>\n",
       "    <tr>\n",
       "      <th>1501</th>\n",
       "      <td>Roadie (1980)</td>\n",
       "      <td></td>\n",
       "      <td>1980</td>\n",
       "      <td>1980s</td>\n",
       "    </tr>\n",
       "    <tr>\n",
       "      <th>1651</th>\n",
       "      <td>The Proposal (2009)</td>\n",
       "      <td>Margaret's Office, 225 Franklin Street and Oli...</td>\n",
       "      <td>2009</td>\n",
       "      <td>2000s</td>\n",
       "    </tr>\n",
       "    <tr>\n",
       "      <th>1718</th>\n",
       "      <td>The President's Analyst (1967)</td>\n",
       "      <td>Statue of Liberty, Liberty Island, New York Ha...</td>\n",
       "      <td>1967</td>\n",
       "      <td>1960s</td>\n",
       "    </tr>\n",
       "    <tr>\n",
       "      <th>1885</th>\n",
       "      <td>Passion of Mind (2000)</td>\n",
       "      <td>East River (btw Brooklyn Bridge and Manhattan ...</td>\n",
       "      <td>2000</td>\n",
       "      <td>2000s</td>\n",
       "    </tr>\n",
       "    <tr>\n",
       "      <th>1977</th>\n",
       "      <td>On the Town (1949)</td>\n",
       "      <td>Statue of Liberty, Liberty Island, New York Ha...</td>\n",
       "      <td>1949</td>\n",
       "      <td>1940s</td>\n",
       "    </tr>\n",
       "  </tbody>\n",
       "</table>\n",
       "</div>"
      ],
      "text/plain": [
       "                                   movie  \\\n",
       "140                         X-Men (2000)   \n",
       "157                  Working Girl (1988)   \n",
       "213                       Whore 2 (1994)   \n",
       "443                Up the Sandbox (1972)   \n",
       "524            2 Days in New York (2012)   \n",
       "633                       Titanic (1997)   \n",
       "670      Three Days of the Condor (1975)   \n",
       "676             A Thousand Clowns (1965)   \n",
       "890                Sweet November (1968)   \n",
       "918                    Superman 2 (1980)   \n",
       "1019                       Splash (1984)   \n",
       "1181                      Sisters (1973)   \n",
       "1268  Sharknado 2: The Second One (2014)   \n",
       "1269  Sharknado 2: The Second One (2014)   \n",
       "1443                     Saboteur (1942)   \n",
       "1500                       Roadie (1980)   \n",
       "1501                       Roadie (1980)   \n",
       "1651                 The Proposal (2009)   \n",
       "1718      The President's Analyst (1967)   \n",
       "1885              Passion of Mind (2000)   \n",
       "1977                  On the Town (1949)   \n",
       "\n",
       "                                               location  year year_group  \n",
       "140   Statue of Liberty, Liberty Island, New York Ha...  2000      2000s  \n",
       "157   Statue of Liberty, Liberty Island, New York Ha...  1988      1980s  \n",
       "213   Playground, West 46th Street (btw 9th and 10th...  1994      1990s  \n",
       "443   Statue of Liberty, Liberty Island, New York Ha...  1972      1970s  \n",
       "524   Massage Salon, 163 Mott Street (btw Grand Stre...  2012      2010s  \n",
       "633   Statue of Liberty, Liberty Island, New York Ha...  1997      1990s  \n",
       "670            East River Lane, Wards Island, New York.  1975      1970s  \n",
       "676   Statue of Liberty, Liberty Island, New York Ha...  1965      1960s  \n",
       "890   East River (btw Brooklyn Bridge and Manhattan ...  1968      1960s  \n",
       "918   Statue of Liberty, Liberty Island, New York Ha...  1980      1980s  \n",
       "1019  Statue of Liberty, Liberty Island, New York Ha...  1984      1980s  \n",
       "1181               Circle Line Ferry, New York Harbour.  1973      1970s  \n",
       "1268               Circle Line Ferry, New York Harbour.  2014      2010s  \n",
       "1269  Statue of Liberty, Liberty Island, New York Ha...  2014      2010s  \n",
       "1443  Statue of Liberty, Liberty Island, New York Ha...  1942      1940s  \n",
       "1500                                                     1980      1980s  \n",
       "1501                                                     1980      1980s  \n",
       "1651  Margaret's Office, 225 Franklin Street and Oli...  2009      2000s  \n",
       "1718  Statue of Liberty, Liberty Island, New York Ha...  1967      1960s  \n",
       "1885  East River (btw Brooklyn Bridge and Manhattan ...  2000      2000s  \n",
       "1977  Statue of Liberty, Liberty Island, New York Ha...  1949      1940s  "
      ]
     },
     "execution_count": 347,
     "metadata": {},
     "output_type": "execute_result"
    }
   ],
   "source": [
    "# locations with NaNs\n",
    "geocodes1.isnull().values.any()\n",
    "index = geocodes1['latitude'].index[geocodes1['latitude'].apply(np.isnan)]\n",
    "group1.loc[index]"
   ]
  },
  {
   "cell_type": "code",
   "execution_count": 352,
   "metadata": {
    "collapsed": false,
    "scrolled": true,
    "slideshow": {
     "slide_type": "skip"
    }
   },
   "outputs": [
    {
     "data": {
      "text/html": [
       "<div>\n",
       "<table border=\"1\" class=\"dataframe\">\n",
       "  <thead>\n",
       "    <tr style=\"text-align: right;\">\n",
       "      <th></th>\n",
       "      <th>movie</th>\n",
       "      <th>location</th>\n",
       "      <th>year</th>\n",
       "      <th>year_group</th>\n",
       "      <th>latitude</th>\n",
       "      <th>longitude</th>\n",
       "    </tr>\n",
       "  </thead>\n",
       "  <tbody>\n",
       "    <tr>\n",
       "      <th>0</th>\n",
       "      <td>Absolute Trust (2009)</td>\n",
       "      <td>Fulton Ferry Pier (Near Brooklyn Bridge) Brook...</td>\n",
       "      <td>2009</td>\n",
       "      <td>2000s</td>\n",
       "      <td>40.692700</td>\n",
       "      <td>-74.001551</td>\n",
       "    </tr>\n",
       "    <tr>\n",
       "      <th>1</th>\n",
       "      <td>Absolute Trust (2009)</td>\n",
       "      <td>Ground Zero, Greenwich Street and Liberty Stre...</td>\n",
       "      <td>2009</td>\n",
       "      <td>2000s</td>\n",
       "      <td>40.709733</td>\n",
       "      <td>-74.011771</td>\n",
       "    </tr>\n",
       "    <tr>\n",
       "      <th>2</th>\n",
       "      <td>Arthur 2: On the Rocks (1988)</td>\n",
       "      <td>Tavern on the Green (btw West 66th and 67th St...</td>\n",
       "      <td>1988</td>\n",
       "      <td>1980s</td>\n",
       "      <td>40.766561</td>\n",
       "      <td>-73.962932</td>\n",
       "    </tr>\n",
       "    <tr>\n",
       "      <th>3</th>\n",
       "      <td>Arthur 2: On the Rocks (1988)</td>\n",
       "      <td>Arthur's Apartment, 676 Park Avenue and East 6...</td>\n",
       "      <td>1988</td>\n",
       "      <td>1980s</td>\n",
       "      <td>40.766248</td>\n",
       "      <td>-73.960248</td>\n",
       "    </tr>\n",
       "    <tr>\n",
       "      <th>4</th>\n",
       "      <td>Arthur 2: On the Rocks (1988)</td>\n",
       "      <td>Sutton Square and Sutton Place, Manhattan.</td>\n",
       "      <td>1988</td>\n",
       "      <td>1980s</td>\n",
       "      <td>40.758020</td>\n",
       "      <td>-73.960167</td>\n",
       "    </tr>\n",
       "  </tbody>\n",
       "</table>\n",
       "</div>"
      ],
      "text/plain": [
       "                           movie  \\\n",
       "0          Absolute Trust (2009)   \n",
       "1          Absolute Trust (2009)   \n",
       "2  Arthur 2: On the Rocks (1988)   \n",
       "3  Arthur 2: On the Rocks (1988)   \n",
       "4  Arthur 2: On the Rocks (1988)   \n",
       "\n",
       "                                            location  year year_group  \\\n",
       "0  Fulton Ferry Pier (Near Brooklyn Bridge) Brook...  2009      2000s   \n",
       "1  Ground Zero, Greenwich Street and Liberty Stre...  2009      2000s   \n",
       "2  Tavern on the Green (btw West 66th and 67th St...  1988      1980s   \n",
       "3  Arthur's Apartment, 676 Park Avenue and East 6...  1988      1980s   \n",
       "4         Sutton Square and Sutton Place, Manhattan.  1988      1980s   \n",
       "\n",
       "    latitude  longitude  \n",
       "0  40.692700 -74.001551  \n",
       "1  40.709733 -74.011771  \n",
       "2  40.766561 -73.962932  \n",
       "3  40.766248 -73.960248  \n",
       "4  40.758020 -73.960167  "
      ]
     },
     "execution_count": 352,
     "metadata": {},
     "output_type": "execute_result"
    }
   ],
   "source": [
    "group1 = pd.concat([group1, geocodes1], axis = 1)\n",
    "group1.head()"
   ]
  },
  {
   "cell_type": "code",
   "execution_count": 353,
   "metadata": {
    "collapsed": false,
    "slideshow": {
     "slide_type": "skip"
    }
   },
   "outputs": [],
   "source": [
    "# first 2000 movie locations (group1)\n",
    "group1.to_csv('group1.csv', columns = ('movie','location','year','year_group','latitude','longitude'),\\\n",
    "                   encoding = 'utf8')"
   ]
  },
  {
   "cell_type": "code",
   "execution_count": 361,
   "metadata": {
    "collapsed": false
   },
   "outputs": [
    {
     "data": {
      "text/plain": [
       "407"
      ]
     },
     "execution_count": 361,
     "metadata": {},
     "output_type": "execute_result"
    }
   ],
   "source": [
    "# Number of unique movies in group1\n",
    "len(group1.movie.unique())"
   ]
  },
  {
   "cell_type": "code",
   "execution_count": 360,
   "metadata": {
    "collapsed": false,
    "slideshow": {
     "slide_type": "skip"
    }
   },
   "outputs": [],
   "source": [
    "#latlong_df = pd.concat([locations_df[:5231], pd.DataFrame(geocodes_list, columns = ('latitude', 'longitude'))], axis = 1)\n",
    "#latlong_df.head()"
   ]
  },
  {
   "cell_type": "code",
   "execution_count": null,
   "metadata": {
    "collapsed": false,
    "slideshow": {
     "slide_type": "skip"
    }
   },
   "outputs": [],
   "source": [
    "#geolocator = Nominatim()\n",
    "#location = geolocator.geocode(locations_df.location[1])"
   ]
  },
  {
   "cell_type": "markdown",
   "metadata": {},
   "source": [
    "## Top movies by location"
   ]
  },
  {
   "cell_type": "code",
   "execution_count": 27,
   "metadata": {
    "collapsed": false,
    "slideshow": {
     "slide_type": "skip"
    }
   },
   "outputs": [
    {
     "data": {
      "text/html": [
       "<div>\n",
       "<table border=\"1\" class=\"dataframe\">\n",
       "  <thead>\n",
       "    <tr style=\"text-align: right;\">\n",
       "      <th></th>\n",
       "      <th>_id</th>\n",
       "      <th>location</th>\n",
       "      <th>title</th>\n",
       "      <th>total_loc</th>\n",
       "    </tr>\n",
       "    <tr>\n",
       "      <th>year</th>\n",
       "      <th></th>\n",
       "      <th></th>\n",
       "      <th></th>\n",
       "      <th></th>\n",
       "    </tr>\n",
       "  </thead>\n",
       "  <tbody>\n",
       "    <tr>\n",
       "      <th>u'1927'</th>\n",
       "      <td>1</td>\n",
       "      <td>1</td>\n",
       "      <td>1</td>\n",
       "      <td>1</td>\n",
       "    </tr>\n",
       "    <tr>\n",
       "      <th>u'1928'</th>\n",
       "      <td>1</td>\n",
       "      <td>1</td>\n",
       "      <td>1</td>\n",
       "      <td>1</td>\n",
       "    </tr>\n",
       "    <tr>\n",
       "      <th>u'1933'</th>\n",
       "      <td>2</td>\n",
       "      <td>2</td>\n",
       "      <td>2</td>\n",
       "      <td>2</td>\n",
       "    </tr>\n",
       "    <tr>\n",
       "      <th>u'1937'</th>\n",
       "      <td>1</td>\n",
       "      <td>1</td>\n",
       "      <td>1</td>\n",
       "      <td>1</td>\n",
       "    </tr>\n",
       "    <tr>\n",
       "      <th>u'1942'</th>\n",
       "      <td>3</td>\n",
       "      <td>3</td>\n",
       "      <td>3</td>\n",
       "      <td>3</td>\n",
       "    </tr>\n",
       "    <tr>\n",
       "      <th>u'1945'</th>\n",
       "      <td>5</td>\n",
       "      <td>5</td>\n",
       "      <td>5</td>\n",
       "      <td>5</td>\n",
       "    </tr>\n",
       "    <tr>\n",
       "      <th>u'1947'</th>\n",
       "      <td>5</td>\n",
       "      <td>5</td>\n",
       "      <td>5</td>\n",
       "      <td>5</td>\n",
       "    </tr>\n",
       "    <tr>\n",
       "      <th>u'1948'</th>\n",
       "      <td>5</td>\n",
       "      <td>5</td>\n",
       "      <td>5</td>\n",
       "      <td>5</td>\n",
       "    </tr>\n",
       "    <tr>\n",
       "      <th>u'1949'</th>\n",
       "      <td>3</td>\n",
       "      <td>3</td>\n",
       "      <td>3</td>\n",
       "      <td>3</td>\n",
       "    </tr>\n",
       "    <tr>\n",
       "      <th>u'1950'</th>\n",
       "      <td>3</td>\n",
       "      <td>3</td>\n",
       "      <td>3</td>\n",
       "      <td>3</td>\n",
       "    </tr>\n",
       "    <tr>\n",
       "      <th>u'1951'</th>\n",
       "      <td>3</td>\n",
       "      <td>3</td>\n",
       "      <td>3</td>\n",
       "      <td>3</td>\n",
       "    </tr>\n",
       "    <tr>\n",
       "      <th>u'1952'</th>\n",
       "      <td>1</td>\n",
       "      <td>1</td>\n",
       "      <td>1</td>\n",
       "      <td>1</td>\n",
       "    </tr>\n",
       "    <tr>\n",
       "      <th>u'1953'</th>\n",
       "      <td>3</td>\n",
       "      <td>3</td>\n",
       "      <td>3</td>\n",
       "      <td>3</td>\n",
       "    </tr>\n",
       "    <tr>\n",
       "      <th>u'1954'</th>\n",
       "      <td>3</td>\n",
       "      <td>3</td>\n",
       "      <td>3</td>\n",
       "      <td>3</td>\n",
       "    </tr>\n",
       "    <tr>\n",
       "      <th>u'1955'</th>\n",
       "      <td>3</td>\n",
       "      <td>3</td>\n",
       "      <td>3</td>\n",
       "      <td>3</td>\n",
       "    </tr>\n",
       "    <tr>\n",
       "      <th>u'1956'</th>\n",
       "      <td>4</td>\n",
       "      <td>4</td>\n",
       "      <td>4</td>\n",
       "      <td>4</td>\n",
       "    </tr>\n",
       "    <tr>\n",
       "      <th>u'1957'</th>\n",
       "      <td>5</td>\n",
       "      <td>5</td>\n",
       "      <td>5</td>\n",
       "      <td>5</td>\n",
       "    </tr>\n",
       "    <tr>\n",
       "      <th>u'1958'</th>\n",
       "      <td>2</td>\n",
       "      <td>2</td>\n",
       "      <td>2</td>\n",
       "      <td>2</td>\n",
       "    </tr>\n",
       "    <tr>\n",
       "      <th>u'1959'</th>\n",
       "      <td>3</td>\n",
       "      <td>3</td>\n",
       "      <td>3</td>\n",
       "      <td>3</td>\n",
       "    </tr>\n",
       "    <tr>\n",
       "      <th>u'1960'</th>\n",
       "      <td>5</td>\n",
       "      <td>5</td>\n",
       "      <td>5</td>\n",
       "      <td>5</td>\n",
       "    </tr>\n",
       "    <tr>\n",
       "      <th>u'1961'</th>\n",
       "      <td>4</td>\n",
       "      <td>4</td>\n",
       "      <td>4</td>\n",
       "      <td>4</td>\n",
       "    </tr>\n",
       "    <tr>\n",
       "      <th>u'1962'</th>\n",
       "      <td>3</td>\n",
       "      <td>3</td>\n",
       "      <td>3</td>\n",
       "      <td>3</td>\n",
       "    </tr>\n",
       "    <tr>\n",
       "      <th>u'1963'</th>\n",
       "      <td>3</td>\n",
       "      <td>3</td>\n",
       "      <td>3</td>\n",
       "      <td>3</td>\n",
       "    </tr>\n",
       "    <tr>\n",
       "      <th>u'1964'</th>\n",
       "      <td>3</td>\n",
       "      <td>3</td>\n",
       "      <td>3</td>\n",
       "      <td>3</td>\n",
       "    </tr>\n",
       "    <tr>\n",
       "      <th>u'1965'</th>\n",
       "      <td>5</td>\n",
       "      <td>5</td>\n",
       "      <td>5</td>\n",
       "      <td>5</td>\n",
       "    </tr>\n",
       "    <tr>\n",
       "      <th>u'1966'</th>\n",
       "      <td>6</td>\n",
       "      <td>6</td>\n",
       "      <td>6</td>\n",
       "      <td>6</td>\n",
       "    </tr>\n",
       "    <tr>\n",
       "      <th>u'1967'</th>\n",
       "      <td>5</td>\n",
       "      <td>5</td>\n",
       "      <td>5</td>\n",
       "      <td>5</td>\n",
       "    </tr>\n",
       "    <tr>\n",
       "      <th>u'1968'</th>\n",
       "      <td>10</td>\n",
       "      <td>10</td>\n",
       "      <td>10</td>\n",
       "      <td>10</td>\n",
       "    </tr>\n",
       "    <tr>\n",
       "      <th>u'1969'</th>\n",
       "      <td>6</td>\n",
       "      <td>6</td>\n",
       "      <td>6</td>\n",
       "      <td>6</td>\n",
       "    </tr>\n",
       "    <tr>\n",
       "      <th>u'1970'</th>\n",
       "      <td>6</td>\n",
       "      <td>6</td>\n",
       "      <td>6</td>\n",
       "      <td>6</td>\n",
       "    </tr>\n",
       "    <tr>\n",
       "      <th>...</th>\n",
       "      <td>...</td>\n",
       "      <td>...</td>\n",
       "      <td>...</td>\n",
       "      <td>...</td>\n",
       "    </tr>\n",
       "    <tr>\n",
       "      <th>u'1986'</th>\n",
       "      <td>13</td>\n",
       "      <td>13</td>\n",
       "      <td>13</td>\n",
       "      <td>13</td>\n",
       "    </tr>\n",
       "    <tr>\n",
       "      <th>u'1987'</th>\n",
       "      <td>17</td>\n",
       "      <td>17</td>\n",
       "      <td>17</td>\n",
       "      <td>17</td>\n",
       "    </tr>\n",
       "    <tr>\n",
       "      <th>u'1988'</th>\n",
       "      <td>17</td>\n",
       "      <td>17</td>\n",
       "      <td>17</td>\n",
       "      <td>17</td>\n",
       "    </tr>\n",
       "    <tr>\n",
       "      <th>u'1989'</th>\n",
       "      <td>18</td>\n",
       "      <td>18</td>\n",
       "      <td>18</td>\n",
       "      <td>18</td>\n",
       "    </tr>\n",
       "    <tr>\n",
       "      <th>u'1990'</th>\n",
       "      <td>23</td>\n",
       "      <td>23</td>\n",
       "      <td>23</td>\n",
       "      <td>23</td>\n",
       "    </tr>\n",
       "    <tr>\n",
       "      <th>u'1991'</th>\n",
       "      <td>22</td>\n",
       "      <td>22</td>\n",
       "      <td>22</td>\n",
       "      <td>22</td>\n",
       "    </tr>\n",
       "    <tr>\n",
       "      <th>u'1992'</th>\n",
       "      <td>12</td>\n",
       "      <td>12</td>\n",
       "      <td>12</td>\n",
       "      <td>12</td>\n",
       "    </tr>\n",
       "    <tr>\n",
       "      <th>u'1993'</th>\n",
       "      <td>20</td>\n",
       "      <td>20</td>\n",
       "      <td>20</td>\n",
       "      <td>20</td>\n",
       "    </tr>\n",
       "    <tr>\n",
       "      <th>u'1994'</th>\n",
       "      <td>18</td>\n",
       "      <td>18</td>\n",
       "      <td>18</td>\n",
       "      <td>18</td>\n",
       "    </tr>\n",
       "    <tr>\n",
       "      <th>u'1995'</th>\n",
       "      <td>12</td>\n",
       "      <td>12</td>\n",
       "      <td>12</td>\n",
       "      <td>12</td>\n",
       "    </tr>\n",
       "    <tr>\n",
       "      <th>u'1996'</th>\n",
       "      <td>26</td>\n",
       "      <td>26</td>\n",
       "      <td>26</td>\n",
       "      <td>26</td>\n",
       "    </tr>\n",
       "    <tr>\n",
       "      <th>u'1997'</th>\n",
       "      <td>28</td>\n",
       "      <td>28</td>\n",
       "      <td>28</td>\n",
       "      <td>28</td>\n",
       "    </tr>\n",
       "    <tr>\n",
       "      <th>u'1998'</th>\n",
       "      <td>25</td>\n",
       "      <td>25</td>\n",
       "      <td>25</td>\n",
       "      <td>25</td>\n",
       "    </tr>\n",
       "    <tr>\n",
       "      <th>u'1999'</th>\n",
       "      <td>35</td>\n",
       "      <td>35</td>\n",
       "      <td>35</td>\n",
       "      <td>35</td>\n",
       "    </tr>\n",
       "    <tr>\n",
       "      <th>u'2000'</th>\n",
       "      <td>26</td>\n",
       "      <td>26</td>\n",
       "      <td>26</td>\n",
       "      <td>26</td>\n",
       "    </tr>\n",
       "    <tr>\n",
       "      <th>u'2001'</th>\n",
       "      <td>24</td>\n",
       "      <td>24</td>\n",
       "      <td>24</td>\n",
       "      <td>24</td>\n",
       "    </tr>\n",
       "    <tr>\n",
       "      <th>u'2002'</th>\n",
       "      <td>36</td>\n",
       "      <td>36</td>\n",
       "      <td>36</td>\n",
       "      <td>36</td>\n",
       "    </tr>\n",
       "    <tr>\n",
       "      <th>u'2003'</th>\n",
       "      <td>15</td>\n",
       "      <td>15</td>\n",
       "      <td>15</td>\n",
       "      <td>15</td>\n",
       "    </tr>\n",
       "    <tr>\n",
       "      <th>u'2004'</th>\n",
       "      <td>33</td>\n",
       "      <td>33</td>\n",
       "      <td>33</td>\n",
       "      <td>33</td>\n",
       "    </tr>\n",
       "    <tr>\n",
       "      <th>u'2005'</th>\n",
       "      <td>34</td>\n",
       "      <td>34</td>\n",
       "      <td>34</td>\n",
       "      <td>34</td>\n",
       "    </tr>\n",
       "    <tr>\n",
       "      <th>u'2006'</th>\n",
       "      <td>29</td>\n",
       "      <td>29</td>\n",
       "      <td>29</td>\n",
       "      <td>29</td>\n",
       "    </tr>\n",
       "    <tr>\n",
       "      <th>u'2007'</th>\n",
       "      <td>54</td>\n",
       "      <td>54</td>\n",
       "      <td>54</td>\n",
       "      <td>54</td>\n",
       "    </tr>\n",
       "    <tr>\n",
       "      <th>u'2008'</th>\n",
       "      <td>38</td>\n",
       "      <td>38</td>\n",
       "      <td>38</td>\n",
       "      <td>38</td>\n",
       "    </tr>\n",
       "    <tr>\n",
       "      <th>u'2009'</th>\n",
       "      <td>60</td>\n",
       "      <td>60</td>\n",
       "      <td>60</td>\n",
       "      <td>60</td>\n",
       "    </tr>\n",
       "    <tr>\n",
       "      <th>u'2010'</th>\n",
       "      <td>52</td>\n",
       "      <td>52</td>\n",
       "      <td>52</td>\n",
       "      <td>52</td>\n",
       "    </tr>\n",
       "    <tr>\n",
       "      <th>u'2011'</th>\n",
       "      <td>40</td>\n",
       "      <td>40</td>\n",
       "      <td>40</td>\n",
       "      <td>40</td>\n",
       "    </tr>\n",
       "    <tr>\n",
       "      <th>u'2012'</th>\n",
       "      <td>49</td>\n",
       "      <td>49</td>\n",
       "      <td>49</td>\n",
       "      <td>49</td>\n",
       "    </tr>\n",
       "    <tr>\n",
       "      <th>u'2013'</th>\n",
       "      <td>43</td>\n",
       "      <td>43</td>\n",
       "      <td>43</td>\n",
       "      <td>43</td>\n",
       "    </tr>\n",
       "    <tr>\n",
       "      <th>u'2014'</th>\n",
       "      <td>57</td>\n",
       "      <td>57</td>\n",
       "      <td>57</td>\n",
       "      <td>57</td>\n",
       "    </tr>\n",
       "    <tr>\n",
       "      <th>u'2015'</th>\n",
       "      <td>21</td>\n",
       "      <td>21</td>\n",
       "      <td>21</td>\n",
       "      <td>21</td>\n",
       "    </tr>\n",
       "  </tbody>\n",
       "</table>\n",
       "<p>75 rows × 4 columns</p>\n",
       "</div>"
      ],
      "text/plain": [
       "         _id  location  title  total_loc\n",
       "year                                    \n",
       "u'1927'    1         1      1          1\n",
       "u'1928'    1         1      1          1\n",
       "u'1933'    2         2      2          2\n",
       "u'1937'    1         1      1          1\n",
       "u'1942'    3         3      3          3\n",
       "u'1945'    5         5      5          5\n",
       "u'1947'    5         5      5          5\n",
       "u'1948'    5         5      5          5\n",
       "u'1949'    3         3      3          3\n",
       "u'1950'    3         3      3          3\n",
       "u'1951'    3         3      3          3\n",
       "u'1952'    1         1      1          1\n",
       "u'1953'    3         3      3          3\n",
       "u'1954'    3         3      3          3\n",
       "u'1955'    3         3      3          3\n",
       "u'1956'    4         4      4          4\n",
       "u'1957'    5         5      5          5\n",
       "u'1958'    2         2      2          2\n",
       "u'1959'    3         3      3          3\n",
       "u'1960'    5         5      5          5\n",
       "u'1961'    4         4      4          4\n",
       "u'1962'    3         3      3          3\n",
       "u'1963'    3         3      3          3\n",
       "u'1964'    3         3      3          3\n",
       "u'1965'    5         5      5          5\n",
       "u'1966'    6         6      6          6\n",
       "u'1967'    5         5      5          5\n",
       "u'1968'   10        10     10         10\n",
       "u'1969'    6         6      6          6\n",
       "u'1970'    6         6      6          6\n",
       "...      ...       ...    ...        ...\n",
       "u'1986'   13        13     13         13\n",
       "u'1987'   17        17     17         17\n",
       "u'1988'   17        17     17         17\n",
       "u'1989'   18        18     18         18\n",
       "u'1990'   23        23     23         23\n",
       "u'1991'   22        22     22         22\n",
       "u'1992'   12        12     12         12\n",
       "u'1993'   20        20     20         20\n",
       "u'1994'   18        18     18         18\n",
       "u'1995'   12        12     12         12\n",
       "u'1996'   26        26     26         26\n",
       "u'1997'   28        28     28         28\n",
       "u'1998'   25        25     25         25\n",
       "u'1999'   35        35     35         35\n",
       "u'2000'   26        26     26         26\n",
       "u'2001'   24        24     24         24\n",
       "u'2002'   36        36     36         36\n",
       "u'2003'   15        15     15         15\n",
       "u'2004'   33        33     33         33\n",
       "u'2005'   34        34     34         34\n",
       "u'2006'   29        29     29         29\n",
       "u'2007'   54        54     54         54\n",
       "u'2008'   38        38     38         38\n",
       "u'2009'   60        60     60         60\n",
       "u'2010'   52        52     52         52\n",
       "u'2011'   40        40     40         40\n",
       "u'2012'   49        49     49         49\n",
       "u'2013'   43        43     43         43\n",
       "u'2014'   57        57     57         57\n",
       "u'2015'   21        21     21         21\n",
       "\n",
       "[75 rows x 4 columns]"
      ]
     },
     "execution_count": 27,
     "metadata": {},
     "output_type": "execute_result"
    }
   ],
   "source": [
    "loc_count = movies_df.groupby('year').count()[1:-1]\n",
    "loc_count\n",
    "# drop 2016"
   ]
  },
  {
   "cell_type": "code",
   "execution_count": 23,
   "metadata": {
    "collapsed": false,
    "slideshow": {
     "slide_type": "skip"
    }
   },
   "outputs": [
    {
     "name": "stderr",
     "output_type": "stream",
     "text": [
      "/Users/tocruz/anaconda/lib/python2.7/site-packages/ipykernel/__main__.py:3: FutureWarning: sort(columns=....) is deprecated, use sort_values(by=.....)\n",
      "  app.launch_new_instance()\n"
     ]
    },
    {
     "data": {
      "text/html": [
       "<div>\n",
       "<table border=\"1\" class=\"dataframe\">\n",
       "  <thead>\n",
       "    <tr style=\"text-align: right;\">\n",
       "      <th></th>\n",
       "      <th>title</th>\n",
       "      <th>total_loc</th>\n",
       "    </tr>\n",
       "  </thead>\n",
       "  <tbody>\n",
       "    <tr>\n",
       "      <th>262</th>\n",
       "      <td>Sex and the City (2008)</td>\n",
       "      <td>39</td>\n",
       "    </tr>\n",
       "    <tr>\n",
       "      <th>355</th>\n",
       "      <td>Premium Rush (2012)</td>\n",
       "      <td>37</td>\n",
       "    </tr>\n",
       "    <tr>\n",
       "      <th>444</th>\n",
       "      <td>Nine 1/2 Weeks (1986)</td>\n",
       "      <td>25</td>\n",
       "    </tr>\n",
       "    <tr>\n",
       "      <th>928</th>\n",
       "      <td>The Devil Wears Prada (2006)</td>\n",
       "      <td>23</td>\n",
       "    </tr>\n",
       "    <tr>\n",
       "      <th>419</th>\n",
       "      <td>One Fine Day (1996)</td>\n",
       "      <td>23</td>\n",
       "    </tr>\n",
       "    <tr>\n",
       "      <th>17</th>\n",
       "      <td>You've Got Mail (1998)</td>\n",
       "      <td>23</td>\n",
       "    </tr>\n",
       "    <tr>\n",
       "      <th>578</th>\n",
       "      <td>Lola Versus (2012)</td>\n",
       "      <td>22</td>\n",
       "    </tr>\n",
       "    <tr>\n",
       "      <th>1161</th>\n",
       "      <td>The Adjustment Bureau (2011)</td>\n",
       "      <td>22</td>\n",
       "    </tr>\n",
       "    <tr>\n",
       "      <th>931</th>\n",
       "      <td>Desperately Seeking Susan (1985)</td>\n",
       "      <td>21</td>\n",
       "    </tr>\n",
       "    <tr>\n",
       "      <th>463</th>\n",
       "      <td>New Year's Eve (2011)</td>\n",
       "      <td>21</td>\n",
       "    </tr>\n",
       "  </tbody>\n",
       "</table>\n",
       "</div>"
      ],
      "text/plain": [
       "                                 title  total_loc\n",
       "262            Sex and the City (2008)         39\n",
       "355                Premium Rush (2012)         37\n",
       "444              Nine 1/2 Weeks (1986)         25\n",
       "928       The Devil Wears Prada (2006)         23\n",
       "419                One Fine Day (1996)         23\n",
       "17              You've Got Mail (1998)         23\n",
       "578                 Lola Versus (2012)         22\n",
       "1161      The Adjustment Bureau (2011)         22\n",
       "931   Desperately Seeking Susan (1985)         21\n",
       "463              New Year's Eve (2011)         21"
      ]
     },
     "execution_count": 23,
     "metadata": {},
     "output_type": "execute_result"
    }
   ],
   "source": [
    "# top 10 movies by location\n",
    "movies_df['total_loc'] = movies_df['location'].apply(len)\n",
    "movies_df[['title','total_loc']].sort('total_loc', ascending=False)[:10]"
   ]
  },
  {
   "cell_type": "code",
   "execution_count": 24,
   "metadata": {
    "collapsed": false,
    "slideshow": {
     "slide_type": "skip"
    }
   },
   "outputs": [
    {
     "name": "stderr",
     "output_type": "stream",
     "text": [
      "/Users/tocruz/anaconda/lib/python2.7/site-packages/ipykernel/__main__.py:1: FutureWarning: sort(columns=....) is deprecated, use sort_values(by=.....)\n",
      "  if __name__ == '__main__':\n"
     ]
    },
    {
     "data": {
      "text/plain": [
       "array([0, 1, 2, 3, 4, 5, 6, 7, 8, 9])"
      ]
     },
     "execution_count": 24,
     "metadata": {},
     "output_type": "execute_result"
    }
   ],
   "source": [
    "np.arange(len(movies_df[['title','total_loc']].sort('total_loc', ascending=False)[:10]['title']))"
   ]
  },
  {
   "cell_type": "code",
   "execution_count": 29,
   "metadata": {
    "collapsed": false,
    "slideshow": {
     "slide_type": "slide"
    }
   },
   "outputs": [
    {
     "name": "stderr",
     "output_type": "stream",
     "text": [
      "/Users/tocruz/anaconda/lib/python2.7/site-packages/ipykernel/__main__.py:1: FutureWarning: sort(columns=....) is deprecated, use sort_values(by=.....)\n",
      "  if __name__ == '__main__':\n",
      "/Users/tocruz/anaconda/lib/python2.7/site-packages/ipykernel/__main__.py:2: FutureWarning: sort(columns=....) is deprecated, use sort_values(by=.....)\n",
      "  from ipykernel import kernelapp as app\n"
     ]
    },
    {
     "data": {
      "text/plain": [
       "<matplotlib.text.Text at 0x116cbe0d0>"
      ]
     },
     "execution_count": 29,
     "metadata": {},
     "output_type": "execute_result"
    },
    {
     "data": {
      "image/png": "[encoded data removed]",
      "text/plain": [
       "<matplotlib.figure.Figure at 0x11a03bc50>"
      ]
     },
     "metadata": {},
     "output_type": "display_data"
    }
   ],
   "source": [
    "x_axis = movies_df[['title','total_loc']].sort('total_loc', ascending=False)[:10]['title']\n",
    "y_axis = movies_df[['title','total_loc']].sort('total_loc',\\\n",
    "        ascending=False)[:10]['total_loc']\n",
    "pos = np.arange(len(x_axis))\n",
    "\n",
    "plt.bar(pos, y_axis, align='center', alpha=0.5)\n",
    "plt.xticks(pos, x_axis, rotation = 'vertical', fontsize=16)\n",
    "plt.yticks(fontsize=16)\n",
    "plt.title('Top Movies by Number of Filmed Locations',\\\n",
    "         fontsize = 18)\n",
    "plt.xlabel('Movie Title', fontsize = 18)\n",
    "plt.ylabel('Total Locations Filmed', fontsize = 18)"
   ]
  },
  {
   "cell_type": "markdown",
   "metadata": {
    "slideshow": {
     "slide_type": "skip"
    }
   },
   "source": [
    "## Locations over time"
   ]
  },
  {
   "cell_type": "code",
   "execution_count": 28,
   "metadata": {
    "collapsed": false,
    "slideshow": {
     "slide_type": "slide"
    }
   },
   "outputs": [
    {
     "data": {
      "text/plain": [
       "<matplotlib.text.Text at 0x11a7168d0>"
      ]
     },
     "execution_count": 28,
     "metadata": {},
     "output_type": "execute_result"
    },
    {
     "data": {
      "image/png": "[encoded data removed]",
      "text/plain": [
       "<matplotlib.figure.Figure at 0x117ba9dd0>"
      ]
     },
     "metadata": {},
     "output_type": "display_data"
    }
   ],
   "source": [
    "loc_count[['location']].plot()\n",
    "plt.title('Total Locations Filmed in NYC by Year', fontsize = 18)\n",
    "plt.xlabel('Year', fontsize=16)\n",
    "plt.xticks(fontsize=14, rotation=45)\n",
    "plt.ylabel('Total Locations Filmed', fontsize=16)"
   ]
  },
  {
   "cell_type": "markdown",
   "metadata": {
    "collapsed": true,
    "slideshow": {
     "slide_type": "slide"
    }
   },
   "source": [
    "<img src='tableau.png'>"
   ]
  },
  {
   "cell_type": "markdown",
   "metadata": {
    "collapsed": true,
    "slideshow": {
     "slide_type": "slide"
    }
   },
   "source": [
    "# Points for Future Analysis\n",
    "# - complete batch geocoding\n",
    "# - plot all film locations on a map\n",
    "# - arrange by year, genre\n",
    "# - what were the most popular locations\n",
    "\n"
   ]
  }
 ],
 "metadata": {
  "celltoolbar": "Slideshow",
  "kernelspec": {
   "display_name": "Python 2",
   "language": "python",
   "name": "python2"
  },
  "language_info": {
   "codemirror_mode": {
    "name": "ipython",
    "version": 2
   },
   "file_extension": ".py",
   "mimetype": "text/x-python",
   "name": "python",
   "nbconvert_exporter": "python",
   "pygments_lexer": "ipython2",
   "version": "2.7.11"
  }
 },
 "nbformat": 4,
 "nbformat_minor": 0
}
