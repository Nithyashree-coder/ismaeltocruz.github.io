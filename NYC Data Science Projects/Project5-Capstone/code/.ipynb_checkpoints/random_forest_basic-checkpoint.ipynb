{
 "cells": [
  {
   "cell_type": "code",
   "execution_count": 5,
   "metadata": {
    "collapsed": true
   },
   "outputs": [],
   "source": [
    "import pandas as pd\n",
    "import numpy as np\n",
    "import matplotlib.pyplot as plt\n",
    "import seaborn as sns\n",
    "import sklearn.grid_search as gs\n",
    "import sklearn.cross_validation as cv\n",
    "from sklearn import datasets\n",
    "from sklearn import tree\n",
    "import sklearn.grid_search as gs\n",
    "import math\n",
    "from time import time\n",
    "%matplotlib inline"
   ]
  },
  {
   "cell_type": "code",
   "execution_count": 6,
   "metadata": {
    "collapsed": false
   },
   "outputs": [],
   "source": [
    "basic_df = pd.read_csv('./basic_df.csv')\n",
    "basic_df.drop(labels = 'Unnamed: 0', axis = 1, inplace = True)\n",
    "pd.options.display.max_columns = 150"
   ]
  },
  {
   "cell_type": "code",
   "execution_count": 7,
   "metadata": {
    "collapsed": false
   },
   "outputs": [
    {
     "name": "stdout",
     "output_type": "stream",
     "text": [
      "Original: (30201, 144)(30201,)\n",
      "Training: (24160, 144)(24160,)\n",
      "Test: (6041, 144)(6041,)\n"
     ]
    }
   ],
   "source": [
    "# prepare training and validation arrays for fitting\n",
    "X = np.array(basic_df.drop('cost', axis = 1))\n",
    "y = np.array(basic_df['cost'])\n",
    "X_train, X_val, y_train, y_val = cv.train_test_split(X, y, \n",
    "                                                      test_size=0.20,\n",
    "                                                       random_state=0)\n",
    "print \"Original: \" + str(X.shape) + str(y.shape)\n",
    "print \"Training: \" + str(X_train.shape) + str(y_train.shape)\n",
    "print \"Test: \" + str(X_val.shape) + str(y_val.shape)"
   ]
  },
  {
   "cell_type": "code",
   "execution_count": 23,
   "metadata": {
    "collapsed": false
   },
   "outputs": [
    {
     "data": {
      "text/plain": [
       "232.4068479537964"
      ]
     },
     "execution_count": 23,
     "metadata": {},
     "output_type": "execute_result"
    }
   ],
   "source": [
    "# Start with a single decision tree\n",
    "tree_model = tree.DecisionTreeRegressor()\n",
    "# try cross validation and grid search to improve tree\n",
    "np.random.seed(0)\n",
    "grid_para_tree = [{'min_samples_split': np.linspace(start = 2, stop = 50, num = 15),\n",
    "                  'min_samples_leaf': range(1, 10)}]\n",
    "grid_search_tree = gs.GridSearchCV(tree_model,\n",
    "                                   grid_para_tree,\n",
    "                                  cv = 10)\n",
    "t0 = time()\n",
    "grid_search_tree.fit(X_train, y_train)\n",
    "t1 = time()\n",
    "t1 - t0"
   ]
  },
  {
   "cell_type": "code",
   "execution_count": 24,
   "metadata": {
    "collapsed": false
   },
   "outputs": [
    {
     "data": {
      "text/plain": [
       "{'min_samples_leaf': 6, 'min_samples_split': 2.0}"
      ]
     },
     "execution_count": 24,
     "metadata": {},
     "output_type": "execute_result"
    }
   ],
   "source": [
    "grid_search_tree.best_params_"
   ]
  },
  {
   "cell_type": "code",
   "execution_count": 25,
   "metadata": {
    "collapsed": false
   },
   "outputs": [
    {
     "data": {
      "text/plain": [
       "0.65837805730856502"
      ]
     },
     "execution_count": 25,
     "metadata": {},
     "output_type": "execute_result"
    }
   ],
   "source": [
    "grid_search_tree.best_score_"
   ]
  },
  {
   "cell_type": "code",
   "execution_count": 26,
   "metadata": {
    "collapsed": false
   },
   "outputs": [
    {
     "data": {
      "text/plain": [
       "0.84869141641819312"
      ]
     },
     "execution_count": 26,
     "metadata": {},
     "output_type": "execute_result"
    }
   ],
   "source": [
    "grid_search_tree.score(X_train, y_train)"
   ]
  },
  {
   "cell_type": "code",
   "execution_count": 27,
   "metadata": {
    "collapsed": false
   },
   "outputs": [
    {
     "data": {
      "text/plain": [
       "0.74448771628672983"
      ]
     },
     "execution_count": 27,
     "metadata": {},
     "output_type": "execute_result"
    }
   ],
   "source": [
    "grid_search_tree.score(X_val, y_val)"
   ]
  },
  {
   "cell_type": "code",
   "execution_count": null,
   "metadata": {
    "collapsed": true
   },
   "outputs": [],
   "source": []
  }
 ],
 "metadata": {
  "kernelspec": {
   "display_name": "Python 2",
   "language": "python",
   "name": "python2"
  },
  "language_info": {
   "codemirror_mode": {
    "name": "ipython",
    "version": 2
   },
   "file_extension": ".py",
   "mimetype": "text/x-python",
   "name": "python",
   "nbconvert_exporter": "python",
   "pygments_lexer": "ipython2",
   "version": "2.7.11"
  }
 },
 "nbformat": 4,
 "nbformat_minor": 0
}
